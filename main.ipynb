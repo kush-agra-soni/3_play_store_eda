{
  "cells": [
    {
      "cell_type": "markdown",
      "metadata": {
        "id": "Zu0c0a4QQavP"
      },
      "source": [
        "# **PROJECT:** playstore_app_analysis"
      ]
    },
    {
      "cell_type": "markdown",
      "metadata": {
        "id": "beRrZCGUAJYm"
      },
      "source": [
        "**Project Type** - EDA (Exploratory Data Analysis)\n",
        "\n",
        "**Contribution** - Individual"
      ]
    },
    {
      "cell_type": "markdown",
      "metadata": {
        "id": "FJNUwmbgGyua"
      },
      "source": [
        "## **PROJECT SUMMARY:**"
      ]
    },
    {
      "cell_type": "markdown",
      "metadata": {
        "id": "F6v_1wHtG2nS"
      },
      "source": [
        "This project aims to explore Google Play Store data to uncover actionable insights for app developers, focusing on user engagement, satisfaction, and app success. By leveraging Exploratory Data Analysis (EDA), the study examines attributes like app category, ratings, and user reviews to identify patterns and trends. The goal is to help developers optimize their apps, improve user experiences, and make data-driven decisions. Key challenges include handling missing data and outliers, with visualizations playing a critical role in presenting findings. Ultimately, this analysis will provide valuable insights to guide developers in a highly competitive marketplace."
      ]
    },
    {
      "cell_type": "markdown",
      "metadata": {
        "id": "w6K7xa23Elo4"
      },
      "source": [
        "## **GITHUB LINK:**"
      ]
    },
    {
      "cell_type": "markdown",
      "metadata": {
        "id": "h1o69JH3Eqqn"
      },
      "source": [
        "Link: https://github.com/kush-agra-soni/play_store_eda.git"
      ]
    },
    {
      "cell_type": "markdown",
      "metadata": {
        "id": "yQaldy8SH6Dl"
      },
      "source": [
        "## **PROBLEM STATEMENT**\n"
      ]
    },
    {
      "cell_type": "markdown",
      "metadata": {
        "id": "DpeJGUA3kjGy"
      },
      "source": [
        "The Playstore App Review Analysis project aims to uncover key factors that drive app success on the Google Play Store by conducting an in-depth Exploratory Data Analysis (EDA). The project will analyze various attributes such as app ratings, categories, user reviews, and pricing models to identify patterns, correlations, and trends. The goal is to derive actionable insights that can help developers optimize their apps, improve user satisfaction, and make informed decisions to enhance app performance in a competitive marketplace."
      ]
    },
    {
      "cell_type": "markdown",
      "metadata": {
        "id": "PH-0ReGfmX4f"
      },
      "source": [
        "#### **Define Your Business Objective?**"
      ]
    },
    {
      "cell_type": "markdown",
      "metadata": {
        "id": "PhDvGCAqmjP1"
      },
      "source": [
        "*Optimizing App Success Rate*"
      ]
    },
    {
      "cell_type": "markdown",
      "metadata": {
        "id": "mDgbUHAGgjLW"
      },
      "source": [
        "## **General Guidelines** : -  "
      ]
    },
    {
      "cell_type": "markdown",
      "metadata": {
        "id": "ZrxVaUj-hHfC"
      },
      "source": [
        "1.   Well-structured, formatted, and commented code is required.\n",
        "2.   Exception Handling, Production Grade Code & Deployment Ready Code will be a plus. Those students will be awarded some additional credits.\n",
        "     \n",
        "     The additional credits will have advantages over other students during Star Student selection.\n",
        "       \n",
        "             [ Note: - Deployment Ready Code is defined as, the whole .ipynb notebook should be executable in one go\n",
        "                       without a single error logged. ]\n",
        "\n",
        "3.   Each and every logic should have proper comments.\n",
        "4. You may add as many number of charts you want. Make Sure for each and every chart the following format should be answered.\n",
        "        \n",
        "\n",
        "```\n",
        "# Chart visualization code\n",
        "```\n",
        "            \n",
        "\n",
        "*   Why did you pick the specific chart?\n",
        "*   What is/are the insight(s) found from the chart?\n",
        "* Will the gained insights help creating a positive business impact?\n",
        "Are there any insights that lead to negative growth? Justify with specific reason.\n",
        "\n",
        "5. You have to create at least 20 logical & meaningful charts having important insights.\n",
        "\n",
        "\n",
        "[ Hints : - Do the Vizualization in  a structured way while following \"UBM\" Rule.\n",
        "\n",
        "U - Univariate Analysis,\n",
        "\n",
        "B - Bivariate Analysis (Numerical - Categorical, Numerical - Numerical, Categorical - Categorical)\n",
        "\n",
        "M - Multivariate Analysis\n",
        " ]\n",
        "\n",
        "\n",
        "\n"
      ]
    },
    {
      "cell_type": "markdown",
      "metadata": {
        "id": "O_i_v8NEhb9l"
      },
      "source": [
        "# **BEGINING:**"
      ]
    },
    {
      "cell_type": "markdown",
      "metadata": {
        "id": "HhfV-JJviCcP"
      },
      "source": [
        "## ***1. KNOW YOUR DATA***"
      ]
    },
    {
      "cell_type": "markdown",
      "metadata": {
        "id": "Y3lxredqlCYt"
      },
      "source": [
        "### Import Libraries"
      ]
    },
    {
      "cell_type": "code",
      "execution_count": 95,
      "metadata": {
        "id": "M8Vqi-pPk-HR"
      },
      "outputs": [],
      "source": [
        "import pandas as pd\n",
        "import numpy as np\n",
        "import matplotlib.pyplot as plt\n",
        "import seaborn as sns\n",
        "import plotly.express as px\n",
        "import plotly.graph_objs as go\n",
        "import missingno as msno\n",
        "from sklearn.preprocessing import StandardScaler\n",
        "from scipy import stats"
      ]
    },
    {
      "cell_type": "markdown",
      "metadata": {
        "id": "3RnN4peoiCZX"
      },
      "source": [
        "### Dataset Loading"
      ]
    },
    {
      "cell_type": "code",
      "execution_count": 96,
      "metadata": {
        "id": "4CkvbW_SlZ_R"
      },
      "outputs": [],
      "source": [
        "# Load the play_store_data.csv file\n",
        "play_data = pd.read_csv('play_store_data.csv')\n",
        "user_data = pd.read_csv('user_reviews.csv')"
      ]
    },
    {
      "cell_type": "markdown",
      "metadata": {
        "id": "x71ZqKXriCWQ"
      },
      "source": [
        "### Dataset First View"
      ]
    },
    {
      "cell_type": "code",
      "execution_count": 97,
      "metadata": {
        "colab": {
          "base_uri": "https://localhost:8080/",
          "height": 213
        },
        "id": "LWNFOSvLl09H",
        "outputId": "a2488222-4d1b-4b15-8878-eb503829fbe2"
      },
      "outputs": [
        {
          "data": {
            "text/html": [
              "<div>\n",
              "<style scoped>\n",
              "    .dataframe tbody tr th:only-of-type {\n",
              "        vertical-align: middle;\n",
              "    }\n",
              "\n",
              "    .dataframe tbody tr th {\n",
              "        vertical-align: top;\n",
              "    }\n",
              "\n",
              "    .dataframe thead th {\n",
              "        text-align: right;\n",
              "    }\n",
              "</style>\n",
              "<table border=\"1\" class=\"dataframe\">\n",
              "  <thead>\n",
              "    <tr style=\"text-align: right;\">\n",
              "      <th></th>\n",
              "      <th>App</th>\n",
              "      <th>Category</th>\n",
              "      <th>Rating</th>\n",
              "      <th>Reviews</th>\n",
              "      <th>Size</th>\n",
              "      <th>Installs</th>\n",
              "      <th>Type</th>\n",
              "      <th>Price</th>\n",
              "      <th>Content Rating</th>\n",
              "      <th>Genres</th>\n",
              "      <th>Last Updated</th>\n",
              "      <th>Current Ver</th>\n",
              "      <th>Android Ver</th>\n",
              "    </tr>\n",
              "  </thead>\n",
              "  <tbody>\n",
              "    <tr>\n",
              "      <th>0</th>\n",
              "      <td>Photo Editor &amp; Candy Camera &amp; Grid &amp; ScrapBook</td>\n",
              "      <td>ART_AND_DESIGN</td>\n",
              "      <td>4.1</td>\n",
              "      <td>159</td>\n",
              "      <td>19M</td>\n",
              "      <td>10,000+</td>\n",
              "      <td>Free</td>\n",
              "      <td>0</td>\n",
              "      <td>Everyone</td>\n",
              "      <td>Art &amp; Design</td>\n",
              "      <td>January 7, 2018</td>\n",
              "      <td>1.0.0</td>\n",
              "      <td>4.0.3 and up</td>\n",
              "    </tr>\n",
              "    <tr>\n",
              "      <th>1</th>\n",
              "      <td>Coloring book moana</td>\n",
              "      <td>ART_AND_DESIGN</td>\n",
              "      <td>3.9</td>\n",
              "      <td>967</td>\n",
              "      <td>14M</td>\n",
              "      <td>500,000+</td>\n",
              "      <td>Free</td>\n",
              "      <td>0</td>\n",
              "      <td>Everyone</td>\n",
              "      <td>Art &amp; Design;Pretend Play</td>\n",
              "      <td>January 15, 2018</td>\n",
              "      <td>2.0.0</td>\n",
              "      <td>4.0.3 and up</td>\n",
              "    </tr>\n",
              "    <tr>\n",
              "      <th>2</th>\n",
              "      <td>U Launcher Lite – FREE Live Cool Themes, Hide ...</td>\n",
              "      <td>ART_AND_DESIGN</td>\n",
              "      <td>4.7</td>\n",
              "      <td>87510</td>\n",
              "      <td>8.7M</td>\n",
              "      <td>5,000,000+</td>\n",
              "      <td>Free</td>\n",
              "      <td>0</td>\n",
              "      <td>Everyone</td>\n",
              "      <td>Art &amp; Design</td>\n",
              "      <td>August 1, 2018</td>\n",
              "      <td>1.2.4</td>\n",
              "      <td>4.0.3 and up</td>\n",
              "    </tr>\n",
              "  </tbody>\n",
              "</table>\n",
              "</div>"
            ],
            "text/plain": [
              "                                                 App        Category  Rating  \\\n",
              "0     Photo Editor & Candy Camera & Grid & ScrapBook  ART_AND_DESIGN     4.1   \n",
              "1                                Coloring book moana  ART_AND_DESIGN     3.9   \n",
              "2  U Launcher Lite – FREE Live Cool Themes, Hide ...  ART_AND_DESIGN     4.7   \n",
              "\n",
              "  Reviews  Size    Installs  Type Price Content Rating  \\\n",
              "0     159   19M     10,000+  Free     0       Everyone   \n",
              "1     967   14M    500,000+  Free     0       Everyone   \n",
              "2   87510  8.7M  5,000,000+  Free     0       Everyone   \n",
              "\n",
              "                      Genres      Last Updated Current Ver   Android Ver  \n",
              "0               Art & Design   January 7, 2018       1.0.0  4.0.3 and up  \n",
              "1  Art & Design;Pretend Play  January 15, 2018       2.0.0  4.0.3 and up  \n",
              "2               Art & Design    August 1, 2018       1.2.4  4.0.3 and up  "
            ]
          },
          "execution_count": 97,
          "metadata": {},
          "output_type": "execute_result"
        }
      ],
      "source": [
        "play_data.head(3)"
      ]
    },
    {
      "cell_type": "code",
      "execution_count": 98,
      "metadata": {
        "colab": {
          "base_uri": "https://localhost:8080/",
          "height": 143
        },
        "id": "sVY4l69LZkGI",
        "outputId": "7870e38a-318d-408d-faeb-8ade64bd4ee8"
      },
      "outputs": [
        {
          "data": {
            "text/html": [
              "<div>\n",
              "<style scoped>\n",
              "    .dataframe tbody tr th:only-of-type {\n",
              "        vertical-align: middle;\n",
              "    }\n",
              "\n",
              "    .dataframe tbody tr th {\n",
              "        vertical-align: top;\n",
              "    }\n",
              "\n",
              "    .dataframe thead th {\n",
              "        text-align: right;\n",
              "    }\n",
              "</style>\n",
              "<table border=\"1\" class=\"dataframe\">\n",
              "  <thead>\n",
              "    <tr style=\"text-align: right;\">\n",
              "      <th></th>\n",
              "      <th>App</th>\n",
              "      <th>Translated_Review</th>\n",
              "      <th>Sentiment</th>\n",
              "      <th>Sentiment_Polarity</th>\n",
              "      <th>Sentiment_Subjectivity</th>\n",
              "    </tr>\n",
              "  </thead>\n",
              "  <tbody>\n",
              "    <tr>\n",
              "      <th>0</th>\n",
              "      <td>10 Best Foods for You</td>\n",
              "      <td>I like eat delicious food. That's I'm cooking ...</td>\n",
              "      <td>Positive</td>\n",
              "      <td>1.00</td>\n",
              "      <td>0.533333</td>\n",
              "    </tr>\n",
              "    <tr>\n",
              "      <th>1</th>\n",
              "      <td>10 Best Foods for You</td>\n",
              "      <td>This help eating healthy exercise regular basis</td>\n",
              "      <td>Positive</td>\n",
              "      <td>0.25</td>\n",
              "      <td>0.288462</td>\n",
              "    </tr>\n",
              "    <tr>\n",
              "      <th>2</th>\n",
              "      <td>10 Best Foods for You</td>\n",
              "      <td>NaN</td>\n",
              "      <td>NaN</td>\n",
              "      <td>NaN</td>\n",
              "      <td>NaN</td>\n",
              "    </tr>\n",
              "  </tbody>\n",
              "</table>\n",
              "</div>"
            ],
            "text/plain": [
              "                     App                                  Translated_Review  \\\n",
              "0  10 Best Foods for You  I like eat delicious food. That's I'm cooking ...   \n",
              "1  10 Best Foods for You    This help eating healthy exercise regular basis   \n",
              "2  10 Best Foods for You                                                NaN   \n",
              "\n",
              "  Sentiment  Sentiment_Polarity  Sentiment_Subjectivity  \n",
              "0  Positive                1.00                0.533333  \n",
              "1  Positive                0.25                0.288462  \n",
              "2       NaN                 NaN                     NaN  "
            ]
          },
          "execution_count": 98,
          "metadata": {},
          "output_type": "execute_result"
        }
      ],
      "source": [
        "user_data.head(3)"
      ]
    },
    {
      "cell_type": "markdown",
      "metadata": {
        "id": "7hBIi_osiCS2"
      },
      "source": [
        "### Dataset Rows & Columns count"
      ]
    },
    {
      "cell_type": "code",
      "execution_count": 99,
      "metadata": {
        "colab": {
          "base_uri": "https://localhost:8080/"
        },
        "id": "Kllu7SJgmLij",
        "outputId": "5d767d6e-d318-4168-d8d2-fe90981db822"
      },
      "outputs": [
        {
          "name": "stdout",
          "output_type": "stream",
          "text": [
            "PlayStore = (10841, 13)\n",
            "User Reviews = (64295, 5)\n"
          ]
        }
      ],
      "source": [
        "print('PlayStore =' , play_data.shape)\n",
        "print('User Reviews =', user_data.shape)"
      ]
    },
    {
      "cell_type": "markdown",
      "metadata": {
        "id": "JlHwYmJAmNHm"
      },
      "source": [
        "### Dataset Information"
      ]
    },
    {
      "cell_type": "code",
      "execution_count": 100,
      "metadata": {
        "colab": {
          "base_uri": "https://localhost:8080/"
        },
        "id": "e9hRXRi6meOf",
        "outputId": "6d09816c-c808-4ec0-d3f0-4096ae052c50"
      },
      "outputs": [
        {
          "name": "stdout",
          "output_type": "stream",
          "text": [
            "<class 'pandas.core.frame.DataFrame'>\n",
            "RangeIndex: 10841 entries, 0 to 10840\n",
            "Data columns (total 13 columns):\n",
            " #   Column          Non-Null Count  Dtype  \n",
            "---  ------          --------------  -----  \n",
            " 0   App             10841 non-null  object \n",
            " 1   Category        10841 non-null  object \n",
            " 2   Rating          9367 non-null   float64\n",
            " 3   Reviews         10841 non-null  object \n",
            " 4   Size            10841 non-null  object \n",
            " 5   Installs        10841 non-null  object \n",
            " 6   Type            10840 non-null  object \n",
            " 7   Price           10841 non-null  object \n",
            " 8   Content Rating  10840 non-null  object \n",
            " 9   Genres          10841 non-null  object \n",
            " 10  Last Updated    10841 non-null  object \n",
            " 11  Current Ver     10833 non-null  object \n",
            " 12  Android Ver     10838 non-null  object \n",
            "dtypes: float64(1), object(12)\n",
            "memory usage: 1.1+ MB\n",
            "None\n",
            "\n",
            "<class 'pandas.core.frame.DataFrame'>\n",
            "RangeIndex: 64295 entries, 0 to 64294\n",
            "Data columns (total 5 columns):\n",
            " #   Column                  Non-Null Count  Dtype  \n",
            "---  ------                  --------------  -----  \n",
            " 0   App                     64295 non-null  object \n",
            " 1   Translated_Review       37427 non-null  object \n",
            " 2   Sentiment               37432 non-null  object \n",
            " 3   Sentiment_Polarity      37432 non-null  float64\n",
            " 4   Sentiment_Subjectivity  37432 non-null  float64\n",
            "dtypes: float64(2), object(3)\n",
            "memory usage: 2.5+ MB\n",
            "None\n"
          ]
        }
      ],
      "source": [
        "print(play_data.info())\n",
        "print()\n",
        "print(user_data.info())"
      ]
    },
    {
      "cell_type": "markdown",
      "metadata": {
        "id": "35m5QtbWiB9F"
      },
      "source": [
        "#### Duplicate Values"
      ]
    },
    {
      "cell_type": "code",
      "execution_count": 101,
      "metadata": {
        "colab": {
          "base_uri": "https://localhost:8080/"
        },
        "id": "1sLdpKYkmox0",
        "outputId": "5b909f91-a7f6-4f8a-9e81-4785ef827d21"
      },
      "outputs": [
        {
          "name": "stdout",
          "output_type": "stream",
          "text": [
            "PlayStore Duplicates = 483\n",
            "User Reviews Duplicates = 33616\n"
          ]
        }
      ],
      "source": [
        "# Dataset Duplicate Value Count\n",
        "print('PlayStore Duplicates =', len(play_data[play_data.duplicated()]))\n",
        "print('User Reviews Duplicates =', len(user_data[user_data.duplicated()]))"
      ]
    },
    {
      "cell_type": "markdown",
      "metadata": {
        "id": "PoPl-ycgm1ru"
      },
      "source": [
        "#### Missing Values/Null Values"
      ]
    },
    {
      "cell_type": "code",
      "execution_count": 102,
      "metadata": {
        "colab": {
          "base_uri": "https://localhost:8080/"
        },
        "id": "GgHWkxvamxVg",
        "outputId": "1871eb79-8c60-4b5e-b267-dc442c380b0f"
      },
      "outputs": [
        {
          "name": "stdout",
          "output_type": "stream",
          "text": [
            "PlayStore Missing Values =\n",
            " App                  0\n",
            "Category             0\n",
            "Rating            1474\n",
            "Reviews              0\n",
            "Size                 0\n",
            "Installs             0\n",
            "Type                 1\n",
            "Price                0\n",
            "Content Rating       1\n",
            "Genres               0\n",
            "Last Updated         0\n",
            "Current Ver          8\n",
            "Android Ver          3\n",
            "dtype: int64\n",
            "\n",
            "User Reviews Missing Values =\n",
            " App                           0\n",
            "Translated_Review         26868\n",
            "Sentiment                 26863\n",
            "Sentiment_Polarity        26863\n",
            "Sentiment_Subjectivity    26863\n",
            "dtype: int64\n"
          ]
        }
      ],
      "source": [
        "# Missing Values/Null Values Count\n",
        "print('PlayStore Missing Values =\\n',play_data.isnull().sum())\n",
        "print()\n",
        "print('User Reviews Missing Values =\\n',user_data.isnull().sum())"
      ]
    },
    {
      "cell_type": "markdown",
      "metadata": {
        "id": "H0kj-8xxnORC"
      },
      "source": [
        "### What did you know about your dataset?"
      ]
    },
    {
      "cell_type": "markdown",
      "metadata": {
        "id": "gfoNAAC-nUe_"
      },
      "source": [
        "**<u>PLAYSTORE :</u>**\n",
        "  The dataset, comprising **10,841** entries across **13** columns, is central to our project focused on analyzing app details from the Google Play Store. ```Key columns include App, Category, Rating, Reviews, Size, Installs, Type, Price, Content Rating, Genres, Last Updated, Current Ver and Android Ver.``` This data offers insights into various aspects of apps, such as their names, categories, user ratings, review counts, sizes, and install figures. The Rating column has significant missing values **(1,474)**, while Type, Content Rating, Current Ver, and Android Ver also have a few missing values.\n",
        "\n",
        "---\n",
        "\n",
        " **<u>USER REVIEWS :</u>**\n",
        " The dataset contains **64,295** entries across **5** columns, focusing on user reviews for various apps available on the Google Play Store.``` The key columns include App, Translated_Review, Sentiment, Sentiment_Polarity, and Sentiment_Subjectivity.``` This dataset is crucial for understanding user feedback, sentiment, and overall user satisfaction with different apps. However, it has significant missing values: Translated_Review (26,868), and Sentiment, Sentiment_Polarity, Sentiment_Subjectivity."
      ]
    },
    {
      "cell_type": "markdown",
      "metadata": {
        "id": "nA9Y7ga8ng1Z"
      },
      "source": [
        "## ***2. UNDERSTANDING YOUR VARIABLES***"
      ]
    },
    {
      "cell_type": "markdown",
      "metadata": {
        "id": "6DBablxYz5Zk"
      },
      "source": [
        "PLAYSTORE VARIABLES:"
      ]
    },
    {
      "cell_type": "code",
      "execution_count": 103,
      "metadata": {
        "colab": {
          "base_uri": "https://localhost:8080/",
          "height": 394
        },
        "id": "j7xfkqrt5Ag5",
        "outputId": "99efa3ef-3d74-4a24-cd5b-1b8b83f1e133"
      },
      "outputs": [
        {
          "data": {
            "text/html": [
              "<div>\n",
              "<style scoped>\n",
              "    .dataframe tbody tr th:only-of-type {\n",
              "        vertical-align: middle;\n",
              "    }\n",
              "\n",
              "    .dataframe tbody tr th {\n",
              "        vertical-align: top;\n",
              "    }\n",
              "\n",
              "    .dataframe thead th {\n",
              "        text-align: right;\n",
              "    }\n",
              "</style>\n",
              "<table border=\"1\" class=\"dataframe\">\n",
              "  <thead>\n",
              "    <tr style=\"text-align: right;\">\n",
              "      <th></th>\n",
              "      <th>App</th>\n",
              "      <th>Category</th>\n",
              "      <th>Rating</th>\n",
              "      <th>Reviews</th>\n",
              "      <th>Size</th>\n",
              "      <th>Installs</th>\n",
              "      <th>Type</th>\n",
              "      <th>Price</th>\n",
              "      <th>Content Rating</th>\n",
              "      <th>Genres</th>\n",
              "      <th>Last Updated</th>\n",
              "      <th>Current Ver</th>\n",
              "      <th>Android Ver</th>\n",
              "    </tr>\n",
              "  </thead>\n",
              "  <tbody>\n",
              "    <tr>\n",
              "      <th>count</th>\n",
              "      <td>10841</td>\n",
              "      <td>10841</td>\n",
              "      <td>9367.000000</td>\n",
              "      <td>10841</td>\n",
              "      <td>10841</td>\n",
              "      <td>10841</td>\n",
              "      <td>10840</td>\n",
              "      <td>10841</td>\n",
              "      <td>10840</td>\n",
              "      <td>10841</td>\n",
              "      <td>10841</td>\n",
              "      <td>10833</td>\n",
              "      <td>10838</td>\n",
              "    </tr>\n",
              "    <tr>\n",
              "      <th>unique</th>\n",
              "      <td>9660</td>\n",
              "      <td>34</td>\n",
              "      <td>NaN</td>\n",
              "      <td>6002</td>\n",
              "      <td>462</td>\n",
              "      <td>22</td>\n",
              "      <td>3</td>\n",
              "      <td>93</td>\n",
              "      <td>6</td>\n",
              "      <td>120</td>\n",
              "      <td>1378</td>\n",
              "      <td>2832</td>\n",
              "      <td>33</td>\n",
              "    </tr>\n",
              "    <tr>\n",
              "      <th>top</th>\n",
              "      <td>ROBLOX</td>\n",
              "      <td>FAMILY</td>\n",
              "      <td>NaN</td>\n",
              "      <td>0</td>\n",
              "      <td>Varies with device</td>\n",
              "      <td>1,000,000+</td>\n",
              "      <td>Free</td>\n",
              "      <td>0</td>\n",
              "      <td>Everyone</td>\n",
              "      <td>Tools</td>\n",
              "      <td>August 3, 2018</td>\n",
              "      <td>Varies with device</td>\n",
              "      <td>4.1 and up</td>\n",
              "    </tr>\n",
              "    <tr>\n",
              "      <th>freq</th>\n",
              "      <td>9</td>\n",
              "      <td>1972</td>\n",
              "      <td>NaN</td>\n",
              "      <td>596</td>\n",
              "      <td>1695</td>\n",
              "      <td>1579</td>\n",
              "      <td>10039</td>\n",
              "      <td>10040</td>\n",
              "      <td>8714</td>\n",
              "      <td>842</td>\n",
              "      <td>326</td>\n",
              "      <td>1459</td>\n",
              "      <td>2451</td>\n",
              "    </tr>\n",
              "    <tr>\n",
              "      <th>mean</th>\n",
              "      <td>NaN</td>\n",
              "      <td>NaN</td>\n",
              "      <td>4.193338</td>\n",
              "      <td>NaN</td>\n",
              "      <td>NaN</td>\n",
              "      <td>NaN</td>\n",
              "      <td>NaN</td>\n",
              "      <td>NaN</td>\n",
              "      <td>NaN</td>\n",
              "      <td>NaN</td>\n",
              "      <td>NaN</td>\n",
              "      <td>NaN</td>\n",
              "      <td>NaN</td>\n",
              "    </tr>\n",
              "    <tr>\n",
              "      <th>std</th>\n",
              "      <td>NaN</td>\n",
              "      <td>NaN</td>\n",
              "      <td>0.537431</td>\n",
              "      <td>NaN</td>\n",
              "      <td>NaN</td>\n",
              "      <td>NaN</td>\n",
              "      <td>NaN</td>\n",
              "      <td>NaN</td>\n",
              "      <td>NaN</td>\n",
              "      <td>NaN</td>\n",
              "      <td>NaN</td>\n",
              "      <td>NaN</td>\n",
              "      <td>NaN</td>\n",
              "    </tr>\n",
              "    <tr>\n",
              "      <th>min</th>\n",
              "      <td>NaN</td>\n",
              "      <td>NaN</td>\n",
              "      <td>1.000000</td>\n",
              "      <td>NaN</td>\n",
              "      <td>NaN</td>\n",
              "      <td>NaN</td>\n",
              "      <td>NaN</td>\n",
              "      <td>NaN</td>\n",
              "      <td>NaN</td>\n",
              "      <td>NaN</td>\n",
              "      <td>NaN</td>\n",
              "      <td>NaN</td>\n",
              "      <td>NaN</td>\n",
              "    </tr>\n",
              "    <tr>\n",
              "      <th>25%</th>\n",
              "      <td>NaN</td>\n",
              "      <td>NaN</td>\n",
              "      <td>4.000000</td>\n",
              "      <td>NaN</td>\n",
              "      <td>NaN</td>\n",
              "      <td>NaN</td>\n",
              "      <td>NaN</td>\n",
              "      <td>NaN</td>\n",
              "      <td>NaN</td>\n",
              "      <td>NaN</td>\n",
              "      <td>NaN</td>\n",
              "      <td>NaN</td>\n",
              "      <td>NaN</td>\n",
              "    </tr>\n",
              "    <tr>\n",
              "      <th>50%</th>\n",
              "      <td>NaN</td>\n",
              "      <td>NaN</td>\n",
              "      <td>4.300000</td>\n",
              "      <td>NaN</td>\n",
              "      <td>NaN</td>\n",
              "      <td>NaN</td>\n",
              "      <td>NaN</td>\n",
              "      <td>NaN</td>\n",
              "      <td>NaN</td>\n",
              "      <td>NaN</td>\n",
              "      <td>NaN</td>\n",
              "      <td>NaN</td>\n",
              "      <td>NaN</td>\n",
              "    </tr>\n",
              "    <tr>\n",
              "      <th>75%</th>\n",
              "      <td>NaN</td>\n",
              "      <td>NaN</td>\n",
              "      <td>4.500000</td>\n",
              "      <td>NaN</td>\n",
              "      <td>NaN</td>\n",
              "      <td>NaN</td>\n",
              "      <td>NaN</td>\n",
              "      <td>NaN</td>\n",
              "      <td>NaN</td>\n",
              "      <td>NaN</td>\n",
              "      <td>NaN</td>\n",
              "      <td>NaN</td>\n",
              "      <td>NaN</td>\n",
              "    </tr>\n",
              "    <tr>\n",
              "      <th>max</th>\n",
              "      <td>NaN</td>\n",
              "      <td>NaN</td>\n",
              "      <td>19.000000</td>\n",
              "      <td>NaN</td>\n",
              "      <td>NaN</td>\n",
              "      <td>NaN</td>\n",
              "      <td>NaN</td>\n",
              "      <td>NaN</td>\n",
              "      <td>NaN</td>\n",
              "      <td>NaN</td>\n",
              "      <td>NaN</td>\n",
              "      <td>NaN</td>\n",
              "      <td>NaN</td>\n",
              "    </tr>\n",
              "  </tbody>\n",
              "</table>\n",
              "</div>"
            ],
            "text/plain": [
              "           App Category       Rating Reviews                Size    Installs  \\\n",
              "count    10841    10841  9367.000000   10841               10841       10841   \n",
              "unique    9660       34          NaN    6002                 462          22   \n",
              "top     ROBLOX   FAMILY          NaN       0  Varies with device  1,000,000+   \n",
              "freq         9     1972          NaN     596                1695        1579   \n",
              "mean       NaN      NaN     4.193338     NaN                 NaN         NaN   \n",
              "std        NaN      NaN     0.537431     NaN                 NaN         NaN   \n",
              "min        NaN      NaN     1.000000     NaN                 NaN         NaN   \n",
              "25%        NaN      NaN     4.000000     NaN                 NaN         NaN   \n",
              "50%        NaN      NaN     4.300000     NaN                 NaN         NaN   \n",
              "75%        NaN      NaN     4.500000     NaN                 NaN         NaN   \n",
              "max        NaN      NaN    19.000000     NaN                 NaN         NaN   \n",
              "\n",
              "         Type  Price Content Rating Genres    Last Updated  \\\n",
              "count   10840  10841          10840  10841           10841   \n",
              "unique      3     93              6    120            1378   \n",
              "top      Free      0       Everyone  Tools  August 3, 2018   \n",
              "freq    10039  10040           8714    842             326   \n",
              "mean      NaN    NaN            NaN    NaN             NaN   \n",
              "std       NaN    NaN            NaN    NaN             NaN   \n",
              "min       NaN    NaN            NaN    NaN             NaN   \n",
              "25%       NaN    NaN            NaN    NaN             NaN   \n",
              "50%       NaN    NaN            NaN    NaN             NaN   \n",
              "75%       NaN    NaN            NaN    NaN             NaN   \n",
              "max       NaN    NaN            NaN    NaN             NaN   \n",
              "\n",
              "               Current Ver Android Ver  \n",
              "count                10833       10838  \n",
              "unique                2832          33  \n",
              "top     Varies with device  4.1 and up  \n",
              "freq                  1459        2451  \n",
              "mean                   NaN         NaN  \n",
              "std                    NaN         NaN  \n",
              "min                    NaN         NaN  \n",
              "25%                    NaN         NaN  \n",
              "50%                    NaN         NaN  \n",
              "75%                    NaN         NaN  \n",
              "max                    NaN         NaN  "
            ]
          },
          "execution_count": 103,
          "metadata": {},
          "output_type": "execute_result"
        }
      ],
      "source": [
        "# Dataset Columns\n",
        "play_data.columns\n",
        "# Dataset Describe\n",
        "play_data.describe(include='all')"
      ]
    },
    {
      "cell_type": "markdown",
      "metadata": {
        "id": "D3tGaIXvz961"
      },
      "source": [
        "USER DATA VARIABLES:"
      ]
    },
    {
      "cell_type": "code",
      "execution_count": 104,
      "metadata": {
        "colab": {
          "base_uri": "https://localhost:8080/",
          "height": 394
        },
        "id": "DnOaZdaE5Q5t",
        "outputId": "32fbc1eb-f7bf-4da2-d135-d3d291a2d08a"
      },
      "outputs": [
        {
          "data": {
            "text/html": [
              "<div>\n",
              "<style scoped>\n",
              "    .dataframe tbody tr th:only-of-type {\n",
              "        vertical-align: middle;\n",
              "    }\n",
              "\n",
              "    .dataframe tbody tr th {\n",
              "        vertical-align: top;\n",
              "    }\n",
              "\n",
              "    .dataframe thead th {\n",
              "        text-align: right;\n",
              "    }\n",
              "</style>\n",
              "<table border=\"1\" class=\"dataframe\">\n",
              "  <thead>\n",
              "    <tr style=\"text-align: right;\">\n",
              "      <th></th>\n",
              "      <th>App</th>\n",
              "      <th>Translated_Review</th>\n",
              "      <th>Sentiment</th>\n",
              "      <th>Sentiment_Polarity</th>\n",
              "      <th>Sentiment_Subjectivity</th>\n",
              "    </tr>\n",
              "  </thead>\n",
              "  <tbody>\n",
              "    <tr>\n",
              "      <th>count</th>\n",
              "      <td>64295</td>\n",
              "      <td>37427</td>\n",
              "      <td>37432</td>\n",
              "      <td>37432.000000</td>\n",
              "      <td>37432.000000</td>\n",
              "    </tr>\n",
              "    <tr>\n",
              "      <th>unique</th>\n",
              "      <td>1074</td>\n",
              "      <td>27994</td>\n",
              "      <td>3</td>\n",
              "      <td>NaN</td>\n",
              "      <td>NaN</td>\n",
              "    </tr>\n",
              "    <tr>\n",
              "      <th>top</th>\n",
              "      <td>Angry Birds Classic</td>\n",
              "      <td>Good</td>\n",
              "      <td>Positive</td>\n",
              "      <td>NaN</td>\n",
              "      <td>NaN</td>\n",
              "    </tr>\n",
              "    <tr>\n",
              "      <th>freq</th>\n",
              "      <td>320</td>\n",
              "      <td>247</td>\n",
              "      <td>23998</td>\n",
              "      <td>NaN</td>\n",
              "      <td>NaN</td>\n",
              "    </tr>\n",
              "    <tr>\n",
              "      <th>mean</th>\n",
              "      <td>NaN</td>\n",
              "      <td>NaN</td>\n",
              "      <td>NaN</td>\n",
              "      <td>0.182146</td>\n",
              "      <td>0.492704</td>\n",
              "    </tr>\n",
              "    <tr>\n",
              "      <th>std</th>\n",
              "      <td>NaN</td>\n",
              "      <td>NaN</td>\n",
              "      <td>NaN</td>\n",
              "      <td>0.351301</td>\n",
              "      <td>0.259949</td>\n",
              "    </tr>\n",
              "    <tr>\n",
              "      <th>min</th>\n",
              "      <td>NaN</td>\n",
              "      <td>NaN</td>\n",
              "      <td>NaN</td>\n",
              "      <td>-1.000000</td>\n",
              "      <td>0.000000</td>\n",
              "    </tr>\n",
              "    <tr>\n",
              "      <th>25%</th>\n",
              "      <td>NaN</td>\n",
              "      <td>NaN</td>\n",
              "      <td>NaN</td>\n",
              "      <td>0.000000</td>\n",
              "      <td>0.357143</td>\n",
              "    </tr>\n",
              "    <tr>\n",
              "      <th>50%</th>\n",
              "      <td>NaN</td>\n",
              "      <td>NaN</td>\n",
              "      <td>NaN</td>\n",
              "      <td>0.150000</td>\n",
              "      <td>0.514286</td>\n",
              "    </tr>\n",
              "    <tr>\n",
              "      <th>75%</th>\n",
              "      <td>NaN</td>\n",
              "      <td>NaN</td>\n",
              "      <td>NaN</td>\n",
              "      <td>0.400000</td>\n",
              "      <td>0.650000</td>\n",
              "    </tr>\n",
              "    <tr>\n",
              "      <th>max</th>\n",
              "      <td>NaN</td>\n",
              "      <td>NaN</td>\n",
              "      <td>NaN</td>\n",
              "      <td>1.000000</td>\n",
              "      <td>1.000000</td>\n",
              "    </tr>\n",
              "  </tbody>\n",
              "</table>\n",
              "</div>"
            ],
            "text/plain": [
              "                        App Translated_Review Sentiment  Sentiment_Polarity  \\\n",
              "count                 64295             37427     37432        37432.000000   \n",
              "unique                 1074             27994         3                 NaN   \n",
              "top     Angry Birds Classic              Good  Positive                 NaN   \n",
              "freq                    320               247     23998                 NaN   \n",
              "mean                    NaN               NaN       NaN            0.182146   \n",
              "std                     NaN               NaN       NaN            0.351301   \n",
              "min                     NaN               NaN       NaN           -1.000000   \n",
              "25%                     NaN               NaN       NaN            0.000000   \n",
              "50%                     NaN               NaN       NaN            0.150000   \n",
              "75%                     NaN               NaN       NaN            0.400000   \n",
              "max                     NaN               NaN       NaN            1.000000   \n",
              "\n",
              "        Sentiment_Subjectivity  \n",
              "count             37432.000000  \n",
              "unique                     NaN  \n",
              "top                        NaN  \n",
              "freq                       NaN  \n",
              "mean                  0.492704  \n",
              "std                   0.259949  \n",
              "min                   0.000000  \n",
              "25%                   0.357143  \n",
              "50%                   0.514286  \n",
              "75%                   0.650000  \n",
              "max                   1.000000  "
            ]
          },
          "execution_count": 104,
          "metadata": {},
          "output_type": "execute_result"
        }
      ],
      "source": [
        "# Dataset Columns\n",
        "user_data.columns\n",
        "# Dataset Describe\n",
        "user_data.describe(include='all')"
      ]
    },
    {
      "cell_type": "markdown",
      "metadata": {
        "id": "PBTbrJXOngz2"
      },
      "source": [
        "### Variables Description"
      ]
    },
    {
      "cell_type": "markdown",
      "metadata": {
        "id": "aJV4KIxSnxay"
      },
      "source": [
        "PlayStore variables description:\n",
        "\n",
        "* App: App name.\n",
        "* Category: App category.\n",
        "* Rating: Average user rating.\n",
        "* Reviews: Number of user reviews.\n",
        "* Size: App size.\n",
        "* Installs: Number of installations.\n",
        "* Type: Free or Paid.\n",
        "* Price: App price.\n",
        "* Content Rating: Suitable age group.\n",
        "* Genres: App genres.\n",
        "* Last Updated: Date of last update.\n",
        "* Current Ver: Current app version.\n",
        "* Android Ver: Required Android version.\n",
        "\n",
        "---\n",
        "\n",
        "User Reviews variables description:\n",
        "\n",
        "* App: App name.\n",
        "* Translated_Review: Translated review content.\n",
        "* Sentiment: Review sentiment.\n",
        "* Sentiment_Polarity: Polarity score.\n",
        "* Sentiment_Subjectivity: Subjectivity score."
      ]
    },
    {
      "cell_type": "markdown",
      "metadata": {
        "id": "u3PMJOP6ngxN"
      },
      "source": [
        "### Check Unique Values for each variable."
      ]
    },
    {
      "cell_type": "code",
      "execution_count": 105,
      "metadata": {
        "colab": {
          "base_uri": "https://localhost:8080/"
        },
        "id": "zms12Yq5n-jE",
        "outputId": "40dc6c47-9124-420e-a354-29e82f068b89"
      },
      "outputs": [
        {
          "name": "stdout",
          "output_type": "stream",
          "text": [
            "No. of unique values in PlayStore data for  App is 9660 .\n",
            "No. of unique values in PlayStore data for  Category is 34 .\n",
            "No. of unique values in PlayStore data for  Rating is 40 .\n",
            "No. of unique values in PlayStore data for  Reviews is 6002 .\n",
            "No. of unique values in PlayStore data for  Size is 462 .\n",
            "No. of unique values in PlayStore data for  Installs is 22 .\n",
            "No. of unique values in PlayStore data for  Type is 3 .\n",
            "No. of unique values in PlayStore data for  Price is 93 .\n",
            "No. of unique values in PlayStore data for  Content Rating is 6 .\n",
            "No. of unique values in PlayStore data for  Genres is 120 .\n",
            "No. of unique values in PlayStore data for  Last Updated is 1378 .\n",
            "No. of unique values in PlayStore data for  Current Ver is 2832 .\n",
            "No. of unique values in PlayStore data for  Android Ver is 33 .\n",
            "\n",
            "No. of unique values in User reviews data for  App is 1074 .\n",
            "No. of unique values in User reviews data for  Translated_Review is 27994 .\n",
            "No. of unique values in User reviews data for  Sentiment is 3 .\n",
            "No. of unique values in User reviews data for  Sentiment_Polarity is 5410 .\n",
            "No. of unique values in User reviews data for  Sentiment_Subjectivity is 4474 .\n"
          ]
        }
      ],
      "source": [
        "# Check Unique Values for each variable.\n",
        "for i in play_data.columns.tolist():\n",
        "  print(\"No. of unique values in PlayStore data for \",i,\"is\",play_data[i].nunique(),\".\")\n",
        "\n",
        "print()\n",
        "\n",
        "for i in user_data.columns.tolist():\n",
        "  print(\"No. of unique values in User reviews data for \",i,\"is\",user_data[i].nunique(),\".\")"
      ]
    },
    {
      "cell_type": "markdown",
      "metadata": {
        "id": "dauF4eBmngu3"
      },
      "source": [
        "##***3. DATA WRANGLING***"
      ]
    },
    {
      "cell_type": "markdown",
      "metadata": {},
      "source": [
        "**<u> DATA WRANGLING (USER REVIEWS DATA SETS) </u>**"
      ]
    },
    {
      "cell_type": "markdown",
      "metadata": {
        "id": "bKJF3rekwFvQ"
      },
      "source": [
        "### Data Wrangling Code"
      ]
    },
    {
      "cell_type": "code",
      "execution_count": 106,
      "metadata": {
        "colab": {
          "base_uri": "https://localhost:8080/"
        },
        "id": "nBhH1KRlXZ9A",
        "outputId": "8837ebca-748a-4c55-c275-c5605da6d44f"
      },
      "outputs": [
        {
          "name": "stdout",
          "output_type": "stream",
          "text": [
            "Initial shape: (64295, 5)\n"
          ]
        }
      ],
      "source": [
        "# Load the dataset\n",
        "df = pd.read_csv('user_reviews.csv')\n",
        "\n",
        "# Display the initial shape of the dataset\n",
        "print(f\"Initial shape: {df.shape}\")"
      ]
    },
    {
      "cell_type": "code",
      "execution_count": 107,
      "metadata": {},
      "outputs": [
        {
          "name": "stdout",
          "output_type": "stream",
          "text": [
            "Shape after processing: (37427, 5)\n"
          ]
        }
      ],
      "source": [
        "# Handle missing values:\n",
        "# 1. Remove rows where Translated_Review, Sentiment, Sentiment_Polarity, or Sentiment_Subjectivity are NaN\n",
        "df.dropna(subset=['Translated_Review', 'Sentiment', 'Sentiment_Polarity', 'Sentiment_Subjectivity'], inplace=True)\n",
        "\n",
        "# 2. Replace remaining NaN values in numerical columns (Sentiment_Polarity, Sentiment_Subjectivity) with the mean values\n",
        "df = df.assign(\n",
        "    Sentiment_Polarity=df['Sentiment_Polarity'].fillna(df['Sentiment_Polarity'].mean()),\n",
        "    Sentiment_Subjectivity=df['Sentiment_Subjectivity'].fillna(df['Sentiment_Subjectivity'].mean())\n",
        ")\n",
        "\n",
        "# Display the shape of the dataset after processing\n",
        "print(f\"Shape after processing: {df.shape}\")"
      ]
    },
    {
      "cell_type": "code",
      "execution_count": 108,
      "metadata": {},
      "outputs": [],
      "source": [
        "# Define function to classify sentiment based on mean Sentiment_Polarity\n",
        "def classify_sentiment(polarity):\n",
        "    if polarity > 0:\n",
        "        return 'Positive'\n",
        "    elif polarity < 0:\n",
        "        return 'Negative'\n",
        "    else:\n",
        "        return 'Neutral'"
      ]
    },
    {
      "cell_type": "code",
      "execution_count": 109,
      "metadata": {},
      "outputs": [],
      "source": [
        "# Group by 'App' and calculate mean for 'Sentiment_Polarity' and 'Sentiment_Subjectivity'\n",
        "aggregated_df = df.groupby('App').agg({\n",
        "    'Sentiment_Polarity': 'mean',\n",
        "    'Sentiment_Subjectivity': 'mean'\n",
        "}).reset_index()\n",
        "\n",
        "# Round values to 2 decimal places\n",
        "aggregated_df['Sentiment_Polarity'] = aggregated_df['Sentiment_Polarity'].round(2)\n",
        "aggregated_df['Sentiment_Subjectivity'] = aggregated_df['Sentiment_Subjectivity'].round(2)"
      ]
    },
    {
      "cell_type": "code",
      "execution_count": 110,
      "metadata": {},
      "outputs": [],
      "source": [
        "# Classify sentiment based on mean Sentiment_Polarity\n",
        "aggregated_df['Sentiment'] = aggregated_df['Sentiment_Polarity'].apply(classify_sentiment)\n",
        "\n",
        "# Rename the columns for clarity\n",
        "aggregated_df.columns = ['App', 'Polarity', 'Subjectivity', 'Sentiment']"
      ]
    },
    {
      "cell_type": "code",
      "execution_count": 111,
      "metadata": {},
      "outputs": [
        {
          "name": "stdout",
          "output_type": "stream",
          "text": [
            "Aggregated data saved to 'final_review_data.csv'.\n"
          ]
        }
      ],
      "source": [
        "# Save the aggregated results to a new CSV file\n",
        "aggregated_df.to_csv('final_review_data.csv', index=False)\n",
        "\n",
        "print(\"Aggregated data saved to 'final_review_data.csv'.\")"
      ]
    },
    {
      "cell_type": "code",
      "execution_count": 112,
      "metadata": {
        "colab": {
          "base_uri": "https://localhost:8080/",
          "height": 206
        },
        "id": "3CNuQ8uyauMA",
        "outputId": "772ce032-0b30-4816-8539-7eafc82a6005"
      },
      "outputs": [
        {
          "data": {
            "text/html": [
              "<div>\n",
              "<style scoped>\n",
              "    .dataframe tbody tr th:only-of-type {\n",
              "        vertical-align: middle;\n",
              "    }\n",
              "\n",
              "    .dataframe tbody tr th {\n",
              "        vertical-align: top;\n",
              "    }\n",
              "\n",
              "    .dataframe thead th {\n",
              "        text-align: right;\n",
              "    }\n",
              "</style>\n",
              "<table border=\"1\" class=\"dataframe\">\n",
              "  <thead>\n",
              "    <tr style=\"text-align: right;\">\n",
              "      <th></th>\n",
              "      <th>App</th>\n",
              "      <th>Polarity</th>\n",
              "      <th>Subjectivity</th>\n",
              "      <th>Sentiment</th>\n",
              "    </tr>\n",
              "  </thead>\n",
              "  <tbody>\n",
              "    <tr>\n",
              "      <th>0</th>\n",
              "      <td>10 Best Foods for You</td>\n",
              "      <td>0.47</td>\n",
              "      <td>0.50</td>\n",
              "      <td>Positive</td>\n",
              "    </tr>\n",
              "    <tr>\n",
              "      <th>1</th>\n",
              "      <td>104 找工作 - 找工作 找打工 找兼職 履歷健檢 履歷診療室</td>\n",
              "      <td>0.39</td>\n",
              "      <td>0.55</td>\n",
              "      <td>Positive</td>\n",
              "    </tr>\n",
              "    <tr>\n",
              "      <th>2</th>\n",
              "      <td>11st</td>\n",
              "      <td>0.19</td>\n",
              "      <td>0.46</td>\n",
              "      <td>Positive</td>\n",
              "    </tr>\n",
              "    <tr>\n",
              "      <th>3</th>\n",
              "      <td>1800 Contacts - Lens Store</td>\n",
              "      <td>0.32</td>\n",
              "      <td>0.59</td>\n",
              "      <td>Positive</td>\n",
              "    </tr>\n",
              "    <tr>\n",
              "      <th>4</th>\n",
              "      <td>1LINE – One Line with One Touch</td>\n",
              "      <td>0.20</td>\n",
              "      <td>0.56</td>\n",
              "      <td>Positive</td>\n",
              "    </tr>\n",
              "  </tbody>\n",
              "</table>\n",
              "</div>"
            ],
            "text/plain": [
              "                                App  Polarity  Subjectivity Sentiment\n",
              "0             10 Best Foods for You      0.47          0.50  Positive\n",
              "1  104 找工作 - 找工作 找打工 找兼職 履歷健檢 履歷診療室      0.39          0.55  Positive\n",
              "2                              11st      0.19          0.46  Positive\n",
              "3        1800 Contacts - Lens Store      0.32          0.59  Positive\n",
              "4   1LINE – One Line with One Touch      0.20          0.56  Positive"
            ]
          },
          "execution_count": 112,
          "metadata": {},
          "output_type": "execute_result"
        }
      ],
      "source": [
        "df = pd.read_csv('final_review_data.csv')\n",
        "df.head()"
      ]
    },
    {
      "cell_type": "markdown",
      "metadata": {},
      "source": [
        "**<u>SOME INSIGHTS FROM USER REVIEWS DATA SET</u>**"
      ]
    },
    {
      "cell_type": "code",
      "execution_count": 113,
      "metadata": {},
      "outputs": [
        {
          "name": "stdout",
          "output_type": "stream",
          "text": [
            "Summary Statistics for Polarity and Subjectivity:\n",
            "         Polarity  Subjectivity\n",
            "count  865.000000    865.000000\n",
            "mean     0.200208      0.489954\n",
            "std      0.163867      0.086018\n",
            "min     -0.670000      0.000000\n",
            "25%      0.080000      0.450000\n",
            "50%      0.200000      0.500000\n",
            "75%      0.300000      0.540000\n",
            "max      1.000000      0.920000\n"
          ]
        }
      ],
      "source": [
        "# Load the dataset\n",
        "df = pd.read_csv('final_review_data.csv')\n",
        "\n",
        "# Summary Statistics\n",
        "summary_stats = df[['Polarity', 'Subjectivity']].describe()\n",
        "print(\"Summary Statistics for Polarity and Subjectivity:\")\n",
        "print(summary_stats)"
      ]
    },
    {
      "cell_type": "code",
      "execution_count": 114,
      "metadata": {},
      "outputs": [
        {
          "name": "stdout",
          "output_type": "stream",
          "text": [
            "\n",
            "Sentiment Distribution:\n",
            "Sentiment\n",
            "Positive    778\n",
            "Negative     76\n",
            "Neutral      11\n",
            "Name: count, dtype: int64\n"
          ]
        }
      ],
      "source": [
        "# Sentiment Distribution\n",
        "sentiment_distribution = df['Sentiment'].value_counts()\n",
        "print(\"\\nSentiment Distribution:\")\n",
        "print(sentiment_distribution)"
      ]
    },
    {
      "cell_type": "code",
      "execution_count": 115,
      "metadata": {},
      "outputs": [
        {
          "name": "stdout",
          "output_type": "stream",
          "text": [
            "Correlation Matrix:\n",
            "              Polarity  Subjectivity\n",
            "Polarity      1.000000      0.307083\n",
            "Subjectivity  0.307083      1.000000\n"
          ]
        }
      ],
      "source": [
        "# Load the dataset\n",
        "df = pd.read_csv('final_review_data.csv')\n",
        "\n",
        "# Calculate the correlation matrix\n",
        "correlation_matrix = df[['Polarity', 'Subjectivity']].corr()\n",
        "\n",
        "# Print the correlation matrix\n",
        "print(\"Correlation Matrix:\")\n",
        "print(correlation_matrix)"
      ]
    },
    {
      "cell_type": "markdown",
      "metadata": {},
      "source": [
        "---"
      ]
    },
    {
      "cell_type": "markdown",
      "metadata": {},
      "source": [
        "**<u> DATA WRANGLING (PLAY STORE DATA SETS) </u>**"
      ]
    },
    {
      "cell_type": "code",
      "execution_count": 116,
      "metadata": {
        "colab": {
          "base_uri": "https://localhost:8080/"
        },
        "id": "OdbuZrzggEIS",
        "outputId": "e1a3aa81-46f1-423f-ce85-d61b02e3163a"
      },
      "outputs": [],
      "source": [
        "# Load the dataset\n",
        "df = pd.read_csv('play_store_data.csv')"
      ]
    },
    {
      "cell_type": "code",
      "execution_count": 117,
      "metadata": {},
      "outputs": [],
      "source": [
        "# Identify numerical and categorical columns\n",
        "numerical_cols = ['Rating', 'Reviews', 'Size', 'Installs', 'Price']\n",
        "categorical_cols = ['Category', 'Type', 'Content Rating', 'Genres', 'Last Updated', 'Current Ver', 'Android Ver']"
      ]
    },
    {
      "cell_type": "code",
      "execution_count": 118,
      "metadata": {},
      "outputs": [],
      "source": [
        "# Handle Size column separately\n",
        "def convert_size(size_str):\n",
        "    if size_str == 'Varies with device':\n",
        "        return np.nan\n",
        "    size_str = size_str.upper()\n",
        "    if 'M' in size_str:\n",
        "        return float(size_str.replace('M', '').strip())  # Convert to float\n",
        "    elif 'K' in size_str:\n",
        "        return float(size_str.replace('K', '').strip()) / 1000  # Convert K to M\n",
        "    else:\n",
        "        return np.nan  # If not M or K, return NaN\n",
        "\n",
        "df['Size'] = df['Size'].apply(convert_size)\n",
        "\n",
        "# Format 'Size' column to append \"M\" to the values\n",
        "def format_size(value):\n",
        "    return f\"{value:.1f}M\" if pd.notna(value) else \"Varies with device\"\n",
        "\n",
        "df['Size'] = df['Size'].apply(format_size)"
      ]
    },
    {
      "cell_type": "code",
      "execution_count": 119,
      "metadata": {},
      "outputs": [],
      "source": [
        "# Handle Installs column\n",
        "def convert_installs(install_str):\n",
        "    # Check if the install_str is numeric or not\n",
        "    if install_str.replace(',', '').replace('+', '').isnumeric():\n",
        "        return float(install_str.replace(',', '').replace('+', ''))  # Remove commas and '+' and convert to float\n",
        "    else:\n",
        "        return np.nan  # Return NaN for non-numeric values\n",
        "\n",
        "df['Installs'] = df['Installs'].apply(convert_installs)\n",
        "\n",
        "# Format 'Installs' column with commas and '+' sign\n",
        "def format_installs(value):\n",
        "    return f\"{int(value):,}+\" if pd.notna(value) else np.nan\n",
        "\n",
        "df['Installs'] = df['Installs'].apply(format_installs)"
      ]
    },
    {
      "cell_type": "code",
      "execution_count": 120,
      "metadata": {},
      "outputs": [],
      "source": [
        "# Handle Price column\n",
        "def convert_price(price_str, type_str):\n",
        "    if type_str == 'Free':\n",
        "        return 0.0\n",
        "    elif type_str == 'Paid':\n",
        "        price_str = price_str.replace('$', '')  # Remove dollar sign\n",
        "        return float(price_str)  # Convert to float\n",
        "    else:\n",
        "        return np.nan\n",
        "\n",
        "df['Price'] = df.apply(lambda row: convert_price(row['Price'], row['Type']), axis=1)\n",
        "\n",
        "# Format 'Price' column with dollar sign\n",
        "df['Price'] = df['Price'].apply(lambda x: f\"${x:.2f}\" if pd.notna(x) else np.nan)\n",
        "\n",
        "# Replace NaN values in 'Price' column based on 'Type'\n",
        "paid_mean = df.loc[df['Type'] == 'Paid', 'Price'].str.replace(r'\\$', '', regex=True).astype(float).mean()  # Mean of 'Paid' prices\n",
        "df['Price'] = df['Price'].fillna(f\"${paid_mean:.2f}\")"
      ]
    },
    {
      "cell_type": "code",
      "execution_count": 121,
      "metadata": {},
      "outputs": [],
      "source": [
        "# Handle the 'Rating' column: replace NaN with the mean of 'Rating' and round to 1 decimal place\n",
        "df['Rating'] = df['Rating'].fillna(df['Rating'].mean()).round(1)"
      ]
    },
    {
      "cell_type": "code",
      "execution_count": 122,
      "metadata": {},
      "outputs": [],
      "source": [
        "# Replace NaN values in categorical columns with the mode (most frequent value)\n",
        "df = df.apply(lambda col: col.fillna(col.mode()[0]) if col.name in categorical_cols else col)"
      ]
    },
    {
      "cell_type": "code",
      "execution_count": 123,
      "metadata": {},
      "outputs": [
        {
          "name": "stdout",
          "output_type": "stream",
          "text": [
            "Cleaned dataset saved to 'final_playstore_data.csv'.\n"
          ]
        }
      ],
      "source": [
        "# Save the cleaned dataset\n",
        "df.to_csv('final_playstore_data.csv', index=False)\n",
        "print(\"Cleaned dataset saved to 'final_playstore_data.csv'.\")"
      ]
    },
    {
      "cell_type": "code",
      "execution_count": 124,
      "metadata": {},
      "outputs": [
        {
          "name": "stdout",
          "output_type": "stream",
          "text": [
            "App               object\n",
            "Category          object\n",
            "Rating            object\n",
            "Reviews           object\n",
            "Size              object\n",
            "Installs          object\n",
            "Type              object\n",
            "Price             object\n",
            "Content Rating    object\n",
            "Genres            object\n",
            "Last Updated      object\n",
            "Current Ver       object\n",
            "Android Ver       object\n",
            "dtype: object\n"
          ]
        }
      ],
      "source": [
        "# Convert all columns to string\n",
        "df = df.astype(str)\n",
        "\n",
        "# Verify the data types\n",
        "print(df.dtypes)"
      ]
    },
    {
      "cell_type": "code",
      "execution_count": 125,
      "metadata": {
        "colab": {
          "base_uri": "https://localhost:8080/",
          "height": 293
        },
        "id": "DFn2ExnBg9sQ",
        "outputId": "7ba0049f-2858-4720-8002-92eba880f64f"
      },
      "outputs": [
        {
          "data": {
            "text/html": [
              "<div>\n",
              "<style scoped>\n",
              "    .dataframe tbody tr th:only-of-type {\n",
              "        vertical-align: middle;\n",
              "    }\n",
              "\n",
              "    .dataframe tbody tr th {\n",
              "        vertical-align: top;\n",
              "    }\n",
              "\n",
              "    .dataframe thead th {\n",
              "        text-align: right;\n",
              "    }\n",
              "</style>\n",
              "<table border=\"1\" class=\"dataframe\">\n",
              "  <thead>\n",
              "    <tr style=\"text-align: right;\">\n",
              "      <th></th>\n",
              "      <th>App</th>\n",
              "      <th>Category</th>\n",
              "      <th>Rating</th>\n",
              "      <th>Reviews</th>\n",
              "      <th>Size</th>\n",
              "      <th>Installs</th>\n",
              "      <th>Type</th>\n",
              "      <th>Price</th>\n",
              "      <th>Content Rating</th>\n",
              "      <th>Genres</th>\n",
              "      <th>Last Updated</th>\n",
              "      <th>Current Ver</th>\n",
              "      <th>Android Ver</th>\n",
              "    </tr>\n",
              "  </thead>\n",
              "  <tbody>\n",
              "    <tr>\n",
              "      <th>0</th>\n",
              "      <td>Photo Editor &amp; Candy Camera &amp; Grid &amp; ScrapBook</td>\n",
              "      <td>ART_AND_DESIGN</td>\n",
              "      <td>4.1</td>\n",
              "      <td>159</td>\n",
              "      <td>19.0M</td>\n",
              "      <td>10,000+</td>\n",
              "      <td>Free</td>\n",
              "      <td>$0.00</td>\n",
              "      <td>Everyone</td>\n",
              "      <td>Art &amp; Design</td>\n",
              "      <td>January 7, 2018</td>\n",
              "      <td>1.0.0</td>\n",
              "      <td>4.0.3 and up</td>\n",
              "    </tr>\n",
              "    <tr>\n",
              "      <th>1</th>\n",
              "      <td>Coloring book moana</td>\n",
              "      <td>ART_AND_DESIGN</td>\n",
              "      <td>3.9</td>\n",
              "      <td>967</td>\n",
              "      <td>14.0M</td>\n",
              "      <td>500,000+</td>\n",
              "      <td>Free</td>\n",
              "      <td>$0.00</td>\n",
              "      <td>Everyone</td>\n",
              "      <td>Art &amp; Design;Pretend Play</td>\n",
              "      <td>January 15, 2018</td>\n",
              "      <td>2.0.0</td>\n",
              "      <td>4.0.3 and up</td>\n",
              "    </tr>\n",
              "    <tr>\n",
              "      <th>2</th>\n",
              "      <td>U Launcher Lite – FREE Live Cool Themes, Hide ...</td>\n",
              "      <td>ART_AND_DESIGN</td>\n",
              "      <td>4.7</td>\n",
              "      <td>87510</td>\n",
              "      <td>8.7M</td>\n",
              "      <td>5,000,000+</td>\n",
              "      <td>Free</td>\n",
              "      <td>$0.00</td>\n",
              "      <td>Everyone</td>\n",
              "      <td>Art &amp; Design</td>\n",
              "      <td>August 1, 2018</td>\n",
              "      <td>1.2.4</td>\n",
              "      <td>4.0.3 and up</td>\n",
              "    </tr>\n",
              "  </tbody>\n",
              "</table>\n",
              "</div>"
            ],
            "text/plain": [
              "                                                 App        Category  Rating  \\\n",
              "0     Photo Editor & Candy Camera & Grid & ScrapBook  ART_AND_DESIGN     4.1   \n",
              "1                                Coloring book moana  ART_AND_DESIGN     3.9   \n",
              "2  U Launcher Lite – FREE Live Cool Themes, Hide ...  ART_AND_DESIGN     4.7   \n",
              "\n",
              "  Reviews   Size    Installs  Type  Price Content Rating  \\\n",
              "0     159  19.0M     10,000+  Free  $0.00       Everyone   \n",
              "1     967  14.0M    500,000+  Free  $0.00       Everyone   \n",
              "2   87510   8.7M  5,000,000+  Free  $0.00       Everyone   \n",
              "\n",
              "                      Genres      Last Updated Current Ver   Android Ver  \n",
              "0               Art & Design   January 7, 2018       1.0.0  4.0.3 and up  \n",
              "1  Art & Design;Pretend Play  January 15, 2018       2.0.0  4.0.3 and up  \n",
              "2               Art & Design    August 1, 2018       1.2.4  4.0.3 and up  "
            ]
          },
          "execution_count": 125,
          "metadata": {},
          "output_type": "execute_result"
        }
      ],
      "source": [
        "df = pd.read_csv('final_playstore_data.csv')\n",
        "df.head(3)"
      ]
    },
    {
      "cell_type": "markdown",
      "metadata": {},
      "source": [
        "**<u>SOME INSIGHTS FROM PLAY STORE DATA SET</u>**"
      ]
    },
    {
      "cell_type": "code",
      "execution_count": 126,
      "metadata": {},
      "outputs": [],
      "source": [
        "# Load the dataset\n",
        "df = pd.read_csv('final_playstore_data.csv')"
      ]
    },
    {
      "cell_type": "code",
      "execution_count": 127,
      "metadata": {},
      "outputs": [],
      "source": [
        "# Data Preprocessing - Clean 'Size' column\n",
        "def convert_size(size):\n",
        "    if isinstance(size, str):  # Check if size is a string\n",
        "        if 'M' in size:\n",
        "            return float(size.replace('M', '')) * 1024  # Convert MB to KB\n",
        "        elif 'k' in size:\n",
        "            return float(size.replace('k', ''))  # Keep kB as is\n",
        "    return np.nan  # For 'Varies with device' or other non-numeric values\n",
        "\n",
        "df['Size'] = df['Size'].astype(str).apply(convert_size)"
      ]
    },
    {
      "cell_type": "code",
      "execution_count": 128,
      "metadata": {},
      "outputs": [],
      "source": [
        "# Data Preprocessing - Clean 'Installs' column\n",
        "df['Installs'] = df['Installs'].str.replace(',', '').str.replace('+', '').astype(float)"
      ]
    },
    {
      "cell_type": "code",
      "execution_count": 129,
      "metadata": {},
      "outputs": [],
      "source": [
        "# Data Preprocessing - Clean 'Price' column (removing $ sign)\n",
        "df['Price'] = df['Price'].str.replace(r'\\$', '', regex=True).astype(float)"
      ]
    },
    {
      "cell_type": "code",
      "execution_count": 130,
      "metadata": {},
      "outputs": [],
      "source": [
        "# Data Preprocessing - Handle 'Android Ver' column\n",
        "def extract_android_ver(ver):\n",
        "    try:\n",
        "        version = ver.split()[0]  # Extract the first part before 'and up'\n",
        "        version_parts = version.split('.')  # Split by '.'\n",
        "        major_minor_version = '.'.join(version_parts[:2])  # Take only the first two parts\n",
        "        return float(major_minor_version)\n",
        "    except:\n",
        "        return np.nan\n",
        "\n",
        "df['Android Ver'] = df['Android Ver'].apply(extract_android_ver)"
      ]
    },
    {
      "cell_type": "code",
      "execution_count": 131,
      "metadata": {},
      "outputs": [],
      "source": [
        "# Filter out rows where 'Last Updated' does not contain a valid date\n",
        "df = df[df['Last Updated'].str.contains(r'\\d{4}', regex=True)]"
      ]
    },
    {
      "cell_type": "code",
      "execution_count": 132,
      "metadata": {},
      "outputs": [],
      "source": [
        "# Convert 'Last Updated' to datetime\n",
        "df['Last Updated'] = pd.to_datetime(df['Last Updated'], errors='coerce')\n",
        "\n",
        "# Drop rows where 'Last Updated' couldn't be converted (if any)\n",
        "df = df.dropna(subset=['Last Updated'])"
      ]
    },
    {
      "cell_type": "code",
      "execution_count": 133,
      "metadata": {},
      "outputs": [
        {
          "name": "stdout",
          "output_type": "stream",
          "text": [
            "Genres with the highest average rating: Board;Pretend Play\n"
          ]
        }
      ],
      "source": [
        "# Question 1: Which Genres have the highest average rating?\n",
        "best_genres = df.groupby('Genres')['Rating'].mean().idxmax()\n",
        "print(\"Genres with the highest average rating:\", best_genres)"
      ]
    },
    {
      "cell_type": "code",
      "execution_count": 134,
      "metadata": {},
      "outputs": [
        {
          "name": "stdout",
          "output_type": "stream",
          "text": [
            "Correlation between Reviews and Rating: 0.0676617168964989\n"
          ]
        }
      ],
      "source": [
        "# Question 2: Is there a correlation between the number of Reviews and the Rating of an app?\n",
        "reviews_rating_correlation = df['Reviews'].astype(float).corr(df['Rating'])\n",
        "print(\"Correlation between Reviews and Rating:\", reviews_rating_correlation)"
      ]
    },
    {
      "cell_type": "code",
      "execution_count": 135,
      "metadata": {},
      "outputs": [
        {
          "name": "stdout",
          "output_type": "stream",
          "text": [
            "Average app size and installs per Category:\n",
            "                        Size Installs\n",
            "Category                            \n",
            "ART_AND_DESIGN       12.37M    1.91M\n",
            "AUTO_AND_VEHICLES    20.04M  625.06K\n",
            "BEAUTY               13.80M  513.15K\n",
            "BOOKS_AND_REFERENCE  13.31M    8.32M\n",
            "BUSINESS             14.47M    2.18M\n",
            "COMICS               13.48M  934.77K\n",
            "COMMUNICATION        11.77M   84.36M\n",
            "DATING               16.63M    1.13M\n",
            "EDUCATION            20.79M    5.59M\n",
            "ENTERTAINMENT        21.85M   19.26M\n",
            "EVENTS               13.96M  249.58K\n",
            "FAMILY               28.32M    5.20M\n",
            "FINANCE              17.93M    2.40M\n",
            "FOOD_AND_DRINK       22.18M    2.16M\n",
            "GAME                 44.37M   30.67M\n",
            "HEALTH_AND_FITNESS   22.77M    4.64M\n",
            "HOUSE_AND_HOME       15.98M    1.92M\n",
            "LIBRARIES_AND_DEMO   11.08M  741.13K\n",
            "LIFESTYLE            14.75M    1.41M\n",
            "MAPS_AND_NAVIGATION  16.61M    5.29M\n",
            "MEDICAL              19.63M  115.03K\n",
            "NEWS_AND_MAGAZINES   13.02M   26.49M\n",
            "PARENTING            22.51M  525.35K\n",
            "PERSONALIZATION      11.30M    5.93M\n",
            "PHOTOGRAPHY          17.37M   30.11M\n",
            "PRODUCTIVITY         12.98M   33.43M\n",
            "SHOPPING             16.18M   12.49M\n",
            "SOCIAL               17.68M   47.69M\n",
            "SPORTS               24.34M    4.56M\n",
            "TOOLS                 8.77M   13.59M\n",
            "TRAVEL_AND_LOCAL     24.65M   26.62M\n",
            "VIDEO_PLAYERS        16.08M   35.55M\n",
            "WEATHER              13.12M    5.20M\n"
          ]
        }
      ],
      "source": [
        "# Question 3: What is the average app size for each Category, and how does it relate to the number of Installs?\n",
        "# Load the dataset\n",
        "df = pd.read_csv('final_playstore_data.csv')\n",
        "\n",
        "# Data Preprocessing\n",
        "\n",
        "# Clean 'Size' column\n",
        "def convert_size(size):\n",
        "    if isinstance(size, str):\n",
        "        if 'M' in size:\n",
        "            return float(size.replace('M', '')) * 1024  # Convert MB to KB\n",
        "        elif 'k' in size:\n",
        "            return float(size.replace('k', ''))  # Keep kB as is\n",
        "    return np.nan  # For non-numeric values\n",
        "\n",
        "df['Size'] = df['Size'].apply(convert_size)\n",
        "\n",
        "# Convert 'Installs' to float and format for readability\n",
        "df['Installs'] = df['Installs'].str.replace(',', '').str.replace('+', '').astype(float)\n",
        "\n",
        "# Calculate average size and installs per Category\n",
        "average_size_installs = df.groupby('Category')[['Size', 'Installs']].mean()\n",
        "\n",
        "# Convert the average size to MB and add 'M' suffix\n",
        "average_size_installs['Size'] = average_size_installs['Size'] / 1024  # Convert KB to MB\n",
        "average_size_installs['Size'] = average_size_installs['Size'].apply(lambda x: f\"{x:.2f}M\")\n",
        "\n",
        "# Convert the installs to readable format\n",
        "def format_installs(value):\n",
        "    if value >= 1e6:\n",
        "        return f\"{value / 1e6:.2f}M\"\n",
        "    elif value >= 1e3:\n",
        "        return f\"{value / 1e3:.2f}K\"\n",
        "    else:\n",
        "        return str(value)\n",
        "\n",
        "average_size_installs['Installs'] = average_size_installs['Installs'].apply(format_installs)\n",
        "\n",
        "# Remove the first row from average_size_installs\n",
        "average_size_installs = average_size_installs.iloc[1:]\n",
        "\n",
        "# Display results\n",
        "print(\"Average app size and installs per Category:\\n\", average_size_installs)\n"
      ]
    },
    {
      "cell_type": "code",
      "execution_count": 136,
      "metadata": {},
      "outputs": [
        {
          "name": "stdout",
          "output_type": "stream",
          "text": [
            "Average Rating per Type:\n",
            " Type\n",
            "0       19.000000\n",
            "Free     4.188018\n",
            "Paid     4.253875\n",
            "Name: Rating, dtype: float64\n"
          ]
        }
      ],
      "source": [
        "# Question 4: Does the Type (Free or Paid) influence the average Rating of an app?\n",
        "type_rating = df.groupby('Type')['Rating'].mean()\n",
        "print(\"Average Rating per Type:\\n\", type_rating)"
      ]
    },
    {
      "cell_type": "code",
      "execution_count": 137,
      "metadata": {},
      "outputs": [
        {
          "name": "stdout",
          "output_type": "stream",
          "text": [
            "Category with the highest number of Installs: GAME\n"
          ]
        }
      ],
      "source": [
        "# Question 5: Which Category has the highest number of Installs?\n",
        "most_installed_category = df.groupby('Category')['Installs'].sum().idxmax()\n",
        "print(\"Category with the highest number of Installs:\", most_installed_category)"
      ]
    },
    {
      "cell_type": "code",
      "execution_count": 138,
      "metadata": {},
      "outputs": [
        {
          "name": "stdout",
          "output_type": "stream",
          "text": [
            "Average number of Installs per Content Rating:\n",
            " Content Rating\n",
            "Adults only 18+     0.67M\n",
            "Everyone           13.10M\n",
            "Everyone 10+       31.97M\n",
            "Mature 17+         11.07M\n",
            "Teen               28.74M\n",
            "Unrated             0.03M\n",
            "Name: Installs, dtype: object\n"
          ]
        }
      ],
      "source": [
        "# Question 6: How does the Content Rating affect the number of Installs?\n",
        "content_rating_installs = df.groupby('Content Rating')['Installs'].mean()\n",
        "\n",
        "# Convert the installs to readable format (in millions)\n",
        "content_rating_installs = content_rating_installs.apply(lambda x: f\"{x / 1e6:.2f}M\")\n",
        "\n",
        "print(\"Average number of Installs per Content Rating:\\n\", content_rating_installs)"
      ]
    },
    {
      "cell_type": "code",
      "execution_count": 139,
      "metadata": {},
      "outputs": [
        {
          "name": "stdout",
          "output_type": "stream",
          "text": [
            "Average number of Installs per Android Version:\n",
            " Android Ver\n",
            "1.0 and up              0.03M\n",
            "1.5 and up              1.19M\n",
            "1.6 and up              0.40M\n",
            "2.0 and up              1.11M\n",
            "2.0.1 and up           14.44M\n",
            "2.1 and up              2.35M\n",
            "2.2 - 7.1.1             0.00M\n",
            "2.2 and up              0.40M\n",
            "2.3 and up              4.22M\n",
            "2.3.3 and up            3.15M\n",
            "3.0 and up              2.37M\n",
            "3.1 and up              5.10M\n",
            "3.2 and up              0.23M\n",
            "4.0 and up              9.84M\n",
            "4.0.3 - 7.1.1           7.50M\n",
            "4.0.3 and up            5.01M\n",
            "4.1 - 7.1.1           100.00M\n",
            "4.1 and up             12.52M\n",
            "4.2 and up              5.07M\n",
            "4.3 and up              4.19M\n",
            "4.4 and up             12.16M\n",
            "4.4W and up             0.00M\n",
            "5.0 - 6.0               0.01M\n",
            "5.0 - 7.1.1             0.00M\n",
            "5.0 - 8.0              10.00M\n",
            "5.0 and up              3.75M\n",
            "5.1 and up              0.35M\n",
            "6.0 and up              1.21M\n",
            "7.0 - 7.1.1             1.00M\n",
            "7.0 and up              5.32M\n",
            "7.1 and up             33.68M\n",
            "8.0 and up              0.25M\n",
            "Varies with device     68.46M\n",
            "Name: Installs, dtype: object\n"
          ]
        }
      ],
      "source": [
        "# Question 7: Is there a relationship between the Android Version requirement and the number of Installs?\n",
        "android_version_installs = df.groupby('Android Ver')['Installs'].mean()\n",
        "\n",
        "# Convert the installs to readable format (in millions)\n",
        "android_version_installs = android_version_installs.apply(lambda x: f\"{x / 1e6:.2f}M\")\n",
        "\n",
        "print(\"Average number of Installs per Android Version:\\n\", android_version_installs)"
      ]
    },
    {
      "cell_type": "code",
      "execution_count": 140,
      "metadata": {},
      "outputs": [
        {
          "name": "stdout",
          "output_type": "stream",
          "text": [
            "Effect of Last Updated date on Rating and Installs:\n",
            "               Rating Installs\n",
            "Last Updated                 \n",
            "2010-12-31       4.2     1.0k\n",
            "2011-12-31       4.0    11.6k\n",
            "2012-12-31       3.9     5.4k\n",
            "2013-12-31       4.1     9.4k\n",
            "2014-12-31       4.1    12.9k\n",
            "2015-12-31       4.1     9.2k\n",
            "2016-12-31       4.1    17.4k\n",
            "2017-12-31       4.1    21.8k\n",
            "2018-12-31       4.2   219.5k\n"
          ]
        }
      ],
      "source": [
        "# Question 8: How does the Last Updated date affect the Rating and number of Installs?\n",
        "# Load the dataset\n",
        "df = pd.read_csv('final_playstore_data.csv')\n",
        "\n",
        "# Data Preprocessing\n",
        "\n",
        "# Convert 'Last Updated' to datetime, invalid parsing will be set as NaT\n",
        "df['Last Updated'] = pd.to_datetime(df['Last Updated'], errors='coerce')\n",
        "\n",
        "# Drop rows where 'Last Updated' is NaT\n",
        "df = df.dropna(subset=['Last Updated'])\n",
        "\n",
        "# Clean 'Size' column\n",
        "def convert_size(size):\n",
        "    if isinstance(size, str):\n",
        "        if 'M' in size:\n",
        "            return float(size.replace('M', '')) * 1024  # Convert MB to KB\n",
        "        elif 'k' in size:\n",
        "            return float(size.replace('k', ''))  # Keep kB as is\n",
        "    return np.nan  # For non-numeric values\n",
        "\n",
        "df['Size'] = df['Size'].apply(convert_size)\n",
        "\n",
        "# Convert 'Installs' to float and format for readability\n",
        "df['Installs'] = df['Installs'].str.replace(',', '').str.replace('+', '').astype(float)\n",
        "\n",
        "# Calculate the effect of Last Updated date on Rating and Installs\n",
        "last_updated_effect = df.groupby(pd.Grouper(key='Last Updated', freq='YE'))[['Rating', 'Installs']].mean()\n",
        "\n",
        "# Round the Rating to 1 decimal place\n",
        "last_updated_effect['Rating'] = last_updated_effect['Rating'].round(1)\n",
        "\n",
        "# Convert Installs to a readable format with a suffix\n",
        "last_updated_effect['Installs'] = (last_updated_effect['Installs'] / 1e5).apply(lambda x: f\"{x:.1f}k\")\n",
        "\n",
        "# Display results\n",
        "print(\"Effect of Last Updated date on Rating and Installs:\\n\", last_updated_effect)\n"
      ]
    },
    {
      "cell_type": "code",
      "execution_count": 141,
      "metadata": {},
      "outputs": [
        {
          "name": "stdout",
          "output_type": "stream",
          "text": [
            "Correlation of Price with Rating and Installs for Paid Apps:\n",
            "\n",
            "          Price  Rating  Installs\n",
            "Price     1.000  -0.104    -0.022\n",
            "Rating   -0.104   1.000     0.063\n",
            "Installs -0.022   0.063     1.000\n",
            "\n",
            "Interpretation:\n",
            "- A correlation close to 1 or -1 indicates a strong relationship, while a correlation close to 0 indicates a weak relationship.\n",
            "- Price vs. Rating: -0.104 (Weak negative correlation, indicating that higher prices slightly decrease ratings)\n",
            "- Price vs. Installs: -0.022 (Very weak negative correlation, suggesting price has almost no effect on installs)\n",
            "- Rating vs. Installs: 0.063 (Very weak positive correlation, says that high-rated apps have slightly more installs, but the effect is minimal)\n"
          ]
        }
      ],
      "source": [
        "# Question 9: Does the Price of Paid apps correlate with their Rating and number of Installs?\n",
        "# Load the dataset\n",
        "df = pd.read_csv('final_playstore_data.csv')\n",
        "\n",
        "# Data Preprocessing\n",
        "\n",
        "# Convert 'Price' to numeric by removing the '$' sign and converting to float\n",
        "df['Price'] = df['Price'].replace({r'\\$': '', ',': ''}, regex=True).astype(float)\n",
        "\n",
        "# Clean 'Installs' by removing ',' and '+', then convert to float\n",
        "df['Installs'] = df['Installs'].replace({r'[,+]': ''}, regex=True).astype(float)\n",
        "\n",
        "# Ensure 'Rating' is in numeric format\n",
        "df['Rating'] = pd.to_numeric(df['Rating'], errors='coerce')\n",
        "\n",
        "# Drop rows with NaN values in 'Price', 'Rating', or 'Installs'\n",
        "df = df.dropna(subset=['Price', 'Rating', 'Installs'])\n",
        "\n",
        "# Calculate correlation for Paid apps\n",
        "price_correlation = df[df['Type'] == 'Paid'][['Price', 'Rating', 'Installs']].corr()\n",
        "\n",
        "# Round off the correlation values to 3 decimal places for better readability\n",
        "price_correlation = price_correlation.round(3)\n",
        "\n",
        "# Display the correlation matrix with explanations\n",
        "print(\"Correlation of Price with Rating and Installs for Paid Apps:\\n\")\n",
        "print(price_correlation)\n",
        "\n",
        "# Interpretation\n",
        "print(\"\\nInterpretation:\")\n",
        "print(\"- A correlation close to 1 or -1 indicates a strong relationship, while a correlation close to 0 indicates a weak relationship.\")\n",
        "print(\"- Price vs. Rating: {:.3f} (Weak negative correlation, indicating that higher prices slightly decrease ratings)\".format(price_correlation.loc['Price', 'Rating']))\n",
        "print(\"- Price vs. Installs: {:.3f} (Very weak negative correlation, suggesting price has almost no effect on installs)\".format(price_correlation.loc['Price', 'Installs']))\n",
        "print(\"- Rating vs. Installs: {:.3f} (Very weak positive correlation, says that high-rated apps have slightly more installs, but the effect is minimal)\".format(price_correlation.loc['Rating', 'Installs']))\n"
      ]
    },
    {
      "cell_type": "code",
      "execution_count": 142,
      "metadata": {},
      "outputs": [
        {
          "name": "stdout",
          "output_type": "stream",
          "text": [
            "Distribution of Ratings across Categories (rounded):\n",
            "\n",
            "                      count  mean   std  min   25%   50%  75%  max\n",
            "Category                                                          \n",
            "ART_AND_DESIGN         65.0  4.35  0.35  3.2  4.10  4.40  4.7  5.0\n",
            "AUTO_AND_VEHICLES      85.0  4.19  0.50  2.1  4.00  4.20  4.5  4.9\n",
            "BEAUTY                 53.0  4.26  0.32  3.1  4.10  4.20  4.5  4.9\n",
            "BOOKS_AND_REFERENCE   231.0  4.31  0.38  2.7  4.20  4.30  4.6  5.0\n",
            "BUSINESS              460.0  4.15  0.51  1.0  4.10  4.20  4.4  5.0\n",
            "COMICS                 60.0  4.16  0.53  2.8  3.88  4.35  4.5  5.0\n",
            "COMMUNICATION         387.0  4.16  0.39  1.0  4.10  4.20  4.4  5.0\n",
            "DATING                234.0  4.01  0.58  1.0  3.90  4.20  4.2  5.0\n",
            "EDUCATION             156.0  4.39  0.25  3.5  4.20  4.40  4.6  4.9\n",
            "ENTERTAINMENT         149.0  4.13  0.30  3.0  3.90  4.20  4.3  4.7\n",
            "EVENTS                 64.0  4.37  0.37  2.9  4.20  4.25  4.6  5.0\n",
            "FAMILY               1972.0  4.19  0.48  1.0  4.00  4.20  4.5  5.0\n",
            "FINANCE               366.0  4.14  0.60  1.0  4.00  4.20  4.5  5.0\n",
            "FOOD_AND_DRINK        127.0  4.17  0.51  1.7  4.05  4.20  4.5  5.0\n",
            "GAME                 1144.0  4.28  0.36  1.0  4.20  4.30  4.5  5.0\n",
            "HEALTH_AND_FITNESS    341.0  4.27  0.58  1.4  4.20  4.40  4.6  5.0\n",
            "HOUSE_AND_HOME         88.0  4.20  0.34  2.8  4.00  4.20  4.5  4.8\n",
            "LIBRARIES_AND_DEMO     85.0  4.18  0.33  3.1  4.10  4.20  4.4  5.0\n",
            "LIFESTYLE             382.0  4.11  0.63  1.5  3.90  4.20  4.5  5.0\n",
            "MAPS_AND_NAVIGATION   137.0  4.07  0.50  1.9  3.90  4.20  4.4  4.9\n",
            "MEDICAL               463.0  4.19  0.58  1.0  4.20  4.20  4.5  5.0\n",
            "NEWS_AND_MAGAZINES    283.0  4.14  0.49  1.7  4.00  4.20  4.4  5.0\n",
            "PARENTING              60.0  4.28  0.47  2.0  4.10  4.35  4.6  5.0\n",
            "PERSONALIZATION       392.0  4.31  0.32  2.5  4.20  4.30  4.5  5.0\n",
            "PHOTOGRAPHY           335.0  4.19  0.45  2.0  4.10  4.30  4.5  5.0\n",
            "PRODUCTIVITY          424.0  4.21  0.46  1.0  4.20  4.20  4.5  5.0\n",
            "SHOPPING              260.0  4.25  0.39  1.6  4.10  4.30  4.5  5.0\n",
            "SOCIAL                295.0  4.25  0.39  1.9  4.10  4.20  4.5  5.0\n",
            "SPORTS                384.0  4.22  0.39  1.5  4.10  4.20  4.4  5.0\n",
            "TOOLS                 843.0  4.07  0.58  1.0  3.90  4.20  4.4  5.0\n",
            "TRAVEL_AND_LOCAL      258.0  4.12  0.47  2.2  4.00  4.20  4.4  5.0\n",
            "VIDEO_PLAYERS         175.0  4.08  0.53  1.8  3.80  4.20  4.4  4.9\n",
            "WEATHER                82.0  4.24  0.32  3.3  4.20  4.20  4.5  4.8\n",
            "\n",
            "Interpretation:\n",
            "This table shows the distribution of app ratings across different categories. For each category, the following statistics are provided:\n",
            "- Count: Number of apps in the category.\n",
            "- Mean: Average rating of apps.\n",
            "- Std: Standard deviation of ratings, indicating variability.\n",
            "- Min: Lowest rating.\n",
            "- 25%: 25th percentile (Q1), where 25% of ratings are below this value.\n",
            "- 50%: Median rating, where 50% of ratings are below and 50% are above.\n",
            "- 75%: 75th percentile (Q3), where 75% of ratings are below this value.\n",
            "- Max: Highest rating.\n"
          ]
        }
      ],
      "source": [
        "# Question 10: What is the distribution of Ratings across different app Categories?\n",
        "rating_distribution = df.groupby('Category')['Rating'].describe()\n",
        "\n",
        "# Format the values\n",
        "rating_distribution = rating_distribution.round({'mean': 2, 'std': 2, 'min': 2, '25%': 2, '50%': 2, '75%': 2, 'max': 2})\n",
        "\n",
        "# Print formatted distribution\n",
        "print(\"Distribution of Ratings across Categories (rounded):\\n\")\n",
        "print(rating_distribution)\n",
        "\n",
        "# Interpretation\n",
        "print(\"\\nInterpretation:\")\n",
        "print(\"This table shows the distribution of app ratings across different categories. For each category, the following statistics are provided:\")\n",
        "print(\"- Count: Number of apps in the category.\")\n",
        "print(\"- Mean: Average rating of apps.\")\n",
        "print(\"- Std: Standard deviation of ratings, indicating variability.\")\n",
        "print(\"- Min: Lowest rating.\")\n",
        "print(\"- 25%: 25th percentile (Q1), where 25% of ratings are below this value.\")\n",
        "print(\"- 50%: Median rating, where 50% of ratings are below and 50% are above.\")\n",
        "print(\"- 75%: 75th percentile (Q3), where 75% of ratings are below this value.\")\n",
        "print(\"- Max: Highest rating.\")"
      ]
    },
    {
      "cell_type": "markdown",
      "metadata": {
        "id": "MSa1f5Uengrz"
      },
      "source": [
        "### What all manipulations have you done and insights you found?"
      ]
    },
    {
      "cell_type": "markdown",
      "metadata": {
        "id": "LbyXE7I1olp8"
      },
      "source": [
        "####**User Reviews Dataset**\n",
        "**F**or the user_reviews dataset, I executed several data cleaning and processing steps to enhance the quality and usability of the data. Initially, I loaded the dataset and checked its shape to understand its initial state. To address missing data, I performed two major operations:\n",
        "\n",
        "1. Removing Rows with Critical Missing Values: I removed any rows where critical columns—Translated_Review, Sentiment, Sentiment_Polarity, or Sentiment_Subjectivity—had missing values. These columns are crucial for sentiment analysis, so retaining rows with these NaNs could lead to inaccurate results.\n",
        "\n",
        "2. Filling Missing Values in Numerical Columns: For the remaining NaNs in Sentiment_Polarity and Sentiment_Subjectivity, I replaced them with the mean values of their respective columns. This approach ensures that the numerical analyses are not skewed by missing data.\n",
        "\n",
        "***After addressing missing values, I proceeded with aggregation:***\n",
        "\n",
        "* Aggregation by App: I grouped the data by the App column and calculated the mean values for Sentiment_Polarity and Sentiment_Subjectivity. This step allowed me to analyze sentiment trends on an app level rather than individual reviews.\n",
        "\n",
        "* Sentiment Classification: I classified the mean sentiment polarity into three categories: 'Positive', 'Negative', or 'Neutral', based on its value. This classification provides a summarized view of how users generally feel about each app.\n",
        "\n",
        "* Data Rounding and Saving: I rounded the aggregated mean values to two decimal places for clarity and consistency. The final cleaned and processed data was saved to a new CSV file, final_review_data.csv.\n"
      ]
    },
    {
      "cell_type": "markdown",
      "metadata": {},
      "source": [
        "\n",
        "##**Play Store Dataset**\n",
        "**F**or the play_store_data dataset, the focus was on cleaning and standardizing various columns to ensure accurate and consistent data analysis. The primary manipulations included:\n",
        "\n",
        "***Handling Missing and Inconsistent Values:***\n",
        "\n",
        "1. Size Column: I converted the Size values from strings representing sizes (e.g., \"15M\", \"2.5K\") into numerical values in megabytes. Sizes listed as \"Varies with device\" were marked as NaN. I then calculated the mean of valid sizes and formatted the size values to append \"M\" for consistency.\n",
        "\n",
        "2. Installs Column: I cleaned the Installs column by removing commas and plus signs and converting the values to floats. The cleaned data was then formatted with commas and a plus sign to maintain readability.\n",
        "\n",
        "3. Price Column: I converted the Price values based on the app type (Free or Paid). Free apps were set to 0.0, while paid apps had their prices converted to floats and formatted with a dollar sign. Missing values in the Price column were replaced with the mean price of paid apps.\n",
        "\n",
        "***Filling Missing Values:***\n",
        "\n",
        "* Rating Column: Missing ratings were replaced with the mean rating, rounded to one decimal place, to ensure that the dataset remains comprehensive and usable for analyses.\n",
        "\n",
        "* Categorical Columns: For categorical columns, missing values were filled with the mode (most frequent value), ensuring that the dataset remains complete and consistent for categorical analysis.\n"
      ]
    },
    {
      "cell_type": "markdown",
      "metadata": {},
      "source": [
        "\n",
        "##***INSIGHTS:***\n",
        "\n",
        "###**Insights from the User Reviews Dataset**\n",
        "\n",
        "1. Overall Sentiment by App: By aggregating the sentiment data at the app level, we can identify which apps have the most positive or negative user feedback. This insight helps in understanding user satisfaction trends for different apps.\n",
        "\n",
        "2. Sentiment Distribution: The classification of apps into 'Positive', 'Negative', or 'Neutral' sentiment categories provides a clear overview of user perceptions. Apps with predominantly positive sentiment may indicate high user satisfaction, whereas those with negative sentiment may highlight potential areas for improvement.\n",
        "\n",
        "3. Sentiment Trends: Mean sentiment polarity and subjectivity offer a quantitative measure of overall user sentiment. Analyzing these metrics over time or across different apps can reveal patterns or shifts in user sentiment, helping to track the impact of updates or changes.\n"
      ]
    },
    {
      "cell_type": "markdown",
      "metadata": {},
      "source": [
        "\n",
        "###**Insights from the Play Store Dataset**\n",
        "\n",
        "1. App Size and User Preferences: Standardizing the Size column allows for analysis of app sizes relative to user preferences. For example, understanding the average size of popular apps can provide insights into user tolerance for app size and help developers optimize their app's footprint.\n",
        "\n",
        "2. Install Trends: By converting and formatting the Installs column, we can analyze installation trends and correlate them with other factors like app category, rating, or price. High install counts for certain categories or types of apps can indicate popular trends and user preferences.\n",
        "\n",
        "3. Pricing Strategy and Impact: With the Price column cleaned and standardized, we can evaluate how pricing affects app popularity and user ratings. For instance, comparing the pricing of paid apps with their ratings and install counts can reveal whether higher-priced apps correlate with better or worse ratings.\n",
        "\n",
        "4. Rating Distribution: The standardized Rating column allows for detailed analysis of app ratings. Examining the distribution of ratings across different categories or app types can help identify which categories tend to have higher or lower average ratings.\n",
        "\n",
        "5. Categorical Insights: Filling missing values in categorical columns with modes helps in understanding the most common app types, categories, and other attributes. This can reveal popular app genres and trends in app features or updates.\n",
        "\n",
        "6. Data Completeness and Consistency: The thorough cleaning process ensures that the dataset is complete and consistent. This enhances the reliability of any further analysis, such as market segmentation, competitive analysis, or predictive modeling.\n",
        "\n",
        "**:** *Overall, these manipulations have significantly improved the quality of the datasets, enabling more accurate and insightful analyses.*"
      ]
    },
    {
      "cell_type": "markdown",
      "metadata": {
        "id": "GF8Ens_Soomf"
      },
      "source": [
        "## ***4. DATA VISUALIZATION, STORYTELLING & EXPERIMENTING WITH CHARTS: UNDERSTAND THE RELATIONSHIPS BETWEEN VARIABLES***"
      ]
    },
    {
      "cell_type": "markdown",
      "metadata": {
        "id": "0wOQAZs5pc--"
      },
      "source": [
        "#### Chart - 1"
      ]
    },
    {
      "cell_type": "code",
      "execution_count": 145,
      "metadata": {
        "id": "7v_ESjsspbW7"
      },
      "outputs": [
        {
          "data": {
            "image/png": "[encoded data removed]",
            "text/plain": [
              "<Figure size 1200x600 with 2 Axes>"
            ]
          },
          "metadata": {},
          "output_type": "display_data"
        }
      ],
      "source": [
        "# Chart - 1 visualization code\n",
        "# In practice, you will use the original dataset again for plotting\n",
        "df = pd.read_csv('final_review_data.csv')\n",
        "\n",
        "# Histogram for Polarity and Subjectivity\n",
        "plt.figure(figsize=(12, 6))\n",
        "\n",
        "# Histogram for Polarity\n",
        "plt.subplot(1, 2, 1)\n",
        "plt.hist(df['Polarity'], bins=30, edgecolor='k', alpha=0.7)\n",
        "plt.title('Histogram of Polarity')\n",
        "plt.xlabel('Polarity')\n",
        "plt.ylabel('Frequency')\n",
        "\n",
        "# Histogram for Subjectivity\n",
        "plt.subplot(1, 2, 2)\n",
        "plt.hist(df['Subjectivity'], bins=30, edgecolor='k', alpha=0.7)\n",
        "plt.title('Histogram of Subjectivity')\n",
        "plt.xlabel('Subjectivity')\n",
        "plt.ylabel('Frequency')\n",
        "\n",
        "plt.tight_layout()\n",
        "plt.show()"
      ]
    },
    {
      "cell_type": "markdown",
      "metadata": {
        "id": "K5QZ13OEpz2H"
      },
      "source": [
        "##### 1. Why did you pick the specific chart?"
      ]
    },
    {
      "cell_type": "markdown",
      "metadata": {
        "id": "XESiWehPqBRc"
      },
      "source": [
        "Answer Here."
      ]
    },
    {
      "cell_type": "markdown",
      "metadata": {
        "id": "lQ7QKXXCp7Bj"
      },
      "source": [
        "##### 2. What is/are the insight(s) found from the chart?"
      ]
    },
    {
      "cell_type": "markdown",
      "metadata": {
        "id": "C_j1G7yiqdRP"
      },
      "source": [
        "Answer Here"
      ]
    },
    {
      "cell_type": "markdown",
      "metadata": {
        "id": "448CDAPjqfQr"
      },
      "source": [
        "##### 3. Will the gained insights help creating a positive business impact?\n",
        "Are there any insights that lead to negative growth? Justify with specific reason."
      ]
    },
    {
      "cell_type": "markdown",
      "metadata": {
        "id": "3cspy4FjqxJW"
      },
      "source": [
        "Answer Here"
      ]
    },
    {
      "cell_type": "markdown",
      "metadata": {
        "id": "KSlN3yHqYklG"
      },
      "source": [
        "#### Chart - 2"
      ]
    },
    {
      "cell_type": "code",
      "execution_count": null,
      "metadata": {
        "id": "R4YgtaqtYklH"
      },
      "outputs": [
        {
          "data": {
            "image/png": "[encoded data removed]",
            "text/plain": [
              "<Figure size 800x800 with 1 Axes>"
            ]
          },
          "metadata": {},
          "output_type": "display_data"
        }
      ],
      "source": [
        "# Load the dataset\n",
        "df = pd.read_csv('final_review_data.csv')\n",
        "\n",
        "# Sentiment Distribution Donut Chart\n",
        "plt.figure(figsize=(8, 8))\n",
        "plt.pie(sentiment_distribution, labels=sentiment_distribution.index, autopct='%1.1f%%', startangle=140, colors=sns.color_palette('pastel'))\n",
        "centre_circle = plt.Circle((0,0),0.4,fc='white')\n",
        "fig = plt.gcf()\n",
        "fig.gca().add_artist(centre_circle)\n",
        "plt.title('Sentiment Distribution')\n",
        "plt.show()\n"
      ]
    },
    {
      "cell_type": "markdown",
      "metadata": {
        "id": "t6dVpIINYklI"
      },
      "source": [
        "##### 1. Why did you pick the specific chart?"
      ]
    },
    {
      "cell_type": "markdown",
      "metadata": {
        "id": "5aaW0BYyYklI"
      },
      "source": [
        "Answer Here."
      ]
    },
    {
      "cell_type": "markdown",
      "metadata": {
        "id": "ijmpgYnKYklI"
      },
      "source": [
        "##### 2. What is/are the insight(s) found from the chart?"
      ]
    },
    {
      "cell_type": "markdown",
      "metadata": {
        "id": "PSx9atu2YklI"
      },
      "source": [
        "Answer Here"
      ]
    },
    {
      "cell_type": "markdown",
      "metadata": {
        "id": "-JiQyfWJYklI"
      },
      "source": [
        "##### 3. Will the gained insights help creating a positive business impact?\n",
        "Are there any insights that lead to negative growth? Justify with specific reason."
      ]
    },
    {
      "cell_type": "markdown",
      "metadata": {
        "id": "BcBbebzrYklV"
      },
      "source": [
        "Answer Here"
      ]
    },
    {
      "cell_type": "markdown",
      "metadata": {
        "id": "EM7whBJCYoAo"
      },
      "source": [
        "#### Chart - 3"
      ]
    },
    {
      "cell_type": "code",
      "execution_count": null,
      "metadata": {},
      "outputs": [
        {
          "data": {
            "image/png": "[encoded data removed]",
            "text/plain": [
              "<Figure size 800x600 with 2 Axes>"
            ]
          },
          "metadata": {},
          "output_type": "display_data"
        }
      ],
      "source": [
        "# Load the dataset\n",
        "df = pd.read_csv('final_review_data.csv')\n",
        "\n",
        "# Hexbin Plot\n",
        "plt.figure(figsize=(8, 6))\n",
        "plt.hexbin(df['Polarity'], df['Subjectivity'], gridsize=30, cmap='coolwarm', mincnt=1)\n",
        "plt.colorbar(label='Counts')\n",
        "plt.title('Hexbin Plot of Polarity vs. Subjectivity')\n",
        "plt.xlabel('Polarity')\n",
        "plt.ylabel('Subjectivity')\n",
        "plt.show()"
      ]
    },
    {
      "cell_type": "markdown",
      "metadata": {
        "id": "fge-S5ZAYoAp"
      },
      "source": [
        "##### 1. Why did you pick the specific chart?"
      ]
    },
    {
      "cell_type": "markdown",
      "metadata": {
        "id": "5dBItgRVYoAp"
      },
      "source": [
        "Answer Here."
      ]
    },
    {
      "cell_type": "markdown",
      "metadata": {
        "id": "85gYPyotYoAp"
      },
      "source": [
        "##### 2. What is/are the insight(s) found from the chart?"
      ]
    },
    {
      "cell_type": "markdown",
      "metadata": {
        "id": "4jstXR6OYoAp"
      },
      "source": [
        "Answer Here"
      ]
    },
    {
      "cell_type": "markdown",
      "metadata": {
        "id": "RoGjAbkUYoAp"
      },
      "source": [
        "##### 3. Will the gained insights help creating a positive business impact?\n",
        "Are there any insights that lead to negative growth? Justify with specific reason."
      ]
    },
    {
      "cell_type": "markdown",
      "metadata": {
        "id": "zfJ8IqMcYoAp"
      },
      "source": [
        "Answer Here"
      ]
    },
    {
      "cell_type": "markdown",
      "metadata": {
        "id": "4Of9eVA-YrdM"
      },
      "source": [
        "#### Chart - 4"
      ]
    },
    {
      "cell_type": "code",
      "execution_count": 144,
      "metadata": {},
      "outputs": [
        {
          "data": {
            "image/png": "[encoded data removed]",
            "text/plain": [
              "<Figure size 600x600 with 3 Axes>"
            ]
          },
          "metadata": {},
          "output_type": "display_data"
        }
      ],
      "source": [
        "# Chart - 4 visualization code# Load the dataset\n",
        "df = pd.read_csv('final_review_data.csv')\n",
        "\n",
        "# Joint Plot\n",
        "sns.jointplot(x='Polarity', y='Subjectivity', data=df, kind='scatter', color='purple', alpha=0.5)\n",
        "plt.suptitle('Joint Plot of Polarity vs. Subjectivity', y=1.02)\n",
        "plt.show()\n"
      ]
    },
    {
      "cell_type": "markdown",
      "metadata": {
        "id": "iky9q4vBYrdO"
      },
      "source": [
        "##### 1. Why did you pick the specific chart?"
      ]
    },
    {
      "cell_type": "markdown",
      "metadata": {
        "id": "aJRCwT6DYrdO"
      },
      "source": [
        "Answer Here."
      ]
    },
    {
      "cell_type": "markdown",
      "metadata": {
        "id": "F6T5p64dYrdO"
      },
      "source": [
        "##### 2. What is/are the insight(s) found from the chart?"
      ]
    },
    {
      "cell_type": "markdown",
      "metadata": {
        "id": "Xx8WAJvtYrdO"
      },
      "source": [
        "Answer Here"
      ]
    },
    {
      "cell_type": "markdown",
      "metadata": {
        "id": "y-Ehk30pYrdP"
      },
      "source": [
        "##### 3. Will the gained insights help creating a positive business impact?\n",
        "Are there any insights that lead to negative growth? Justify with specific reason."
      ]
    },
    {
      "cell_type": "markdown",
      "metadata": {
        "id": "jLNxxz7MYrdP"
      },
      "source": [
        "Answer Here"
      ]
    },
    {
      "cell_type": "markdown",
      "metadata": {
        "id": "bamQiAODYuh1"
      },
      "source": [
        "#### Chart - 5"
      ]
    },
    {
      "cell_type": "code",
      "execution_count": 84,
      "metadata": {
        "id": "TIJwrbroYuh3"
      },
      "outputs": [],
      "source": [
        "# Chart - 5 visualization code"
      ]
    },
    {
      "cell_type": "markdown",
      "metadata": {
        "id": "QHF8YVU7Yuh3"
      },
      "source": [
        "##### 1. Why did you pick the specific chart?"
      ]
    },
    {
      "cell_type": "markdown",
      "metadata": {
        "id": "dcxuIMRPYuh3"
      },
      "source": [
        "Answer Here."
      ]
    },
    {
      "cell_type": "markdown",
      "metadata": {
        "id": "GwzvFGzlYuh3"
      },
      "source": [
        "##### 2. What is/are the insight(s) found from the chart?"
      ]
    },
    {
      "cell_type": "markdown",
      "metadata": {
        "id": "uyqkiB8YYuh3"
      },
      "source": [
        "Answer Here"
      ]
    },
    {
      "cell_type": "markdown",
      "metadata": {
        "id": "qYpmQ266Yuh3"
      },
      "source": [
        "##### 3. Will the gained insights help creating a positive business impact?\n",
        "Are there any insights that lead to negative growth? Justify with specific reason."
      ]
    },
    {
      "cell_type": "markdown",
      "metadata": {
        "id": "_WtzZ_hCYuh4"
      },
      "source": [
        "Answer Here"
      ]
    },
    {
      "cell_type": "markdown",
      "metadata": {
        "id": "OH-pJp9IphqM"
      },
      "source": [
        "#### Chart - 6"
      ]
    },
    {
      "cell_type": "code",
      "execution_count": 85,
      "metadata": {
        "id": "kuRf4wtuphqN"
      },
      "outputs": [],
      "source": [
        "# Chart - 6 visualization code"
      ]
    },
    {
      "cell_type": "markdown",
      "metadata": {
        "id": "bbFf2-_FphqN"
      },
      "source": [
        "##### 1. Why did you pick the specific chart?"
      ]
    },
    {
      "cell_type": "markdown",
      "metadata": {
        "id": "loh7H2nzphqN"
      },
      "source": [
        "Answer Here."
      ]
    },
    {
      "cell_type": "markdown",
      "metadata": {
        "id": "_ouA3fa0phqN"
      },
      "source": [
        "##### 2. What is/are the insight(s) found from the chart?"
      ]
    },
    {
      "cell_type": "markdown",
      "metadata": {
        "id": "VECbqPI7phqN"
      },
      "source": [
        "Answer Here"
      ]
    },
    {
      "cell_type": "markdown",
      "metadata": {
        "id": "Seke61FWphqN"
      },
      "source": [
        "##### 3. Will the gained insights help creating a positive business impact?\n",
        "Are there any insights that lead to negative growth? Justify with specific reason."
      ]
    },
    {
      "cell_type": "markdown",
      "metadata": {
        "id": "DW4_bGpfphqN"
      },
      "source": [
        "Answer Here"
      ]
    },
    {
      "cell_type": "markdown",
      "metadata": {
        "id": "PIIx-8_IphqN"
      },
      "source": [
        "#### Chart - 7"
      ]
    },
    {
      "cell_type": "code",
      "execution_count": 86,
      "metadata": {
        "id": "lqAIGUfyphqO"
      },
      "outputs": [],
      "source": [
        "# Chart - 7 visualization code"
      ]
    },
    {
      "cell_type": "markdown",
      "metadata": {
        "id": "t27r6nlMphqO"
      },
      "source": [
        "##### 1. Why did you pick the specific chart?"
      ]
    },
    {
      "cell_type": "markdown",
      "metadata": {
        "id": "iv6ro40sphqO"
      },
      "source": [
        "Answer Here."
      ]
    },
    {
      "cell_type": "markdown",
      "metadata": {
        "id": "r2jJGEOYphqO"
      },
      "source": [
        "##### 2. What is/are the insight(s) found from the chart?"
      ]
    },
    {
      "cell_type": "markdown",
      "metadata": {
        "id": "Po6ZPi4hphqO"
      },
      "source": [
        "Answer Here"
      ]
    },
    {
      "cell_type": "markdown",
      "metadata": {
        "id": "b0JNsNcRphqO"
      },
      "source": [
        "##### 3. Will the gained insights help creating a positive business impact?\n",
        "Are there any insights that lead to negative growth? Justify with specific reason."
      ]
    },
    {
      "cell_type": "markdown",
      "metadata": {
        "id": "xvSq8iUTphqO"
      },
      "source": [
        "Answer Here"
      ]
    },
    {
      "cell_type": "markdown",
      "metadata": {
        "id": "BZR9WyysphqO"
      },
      "source": [
        "#### Chart - 8"
      ]
    },
    {
      "cell_type": "code",
      "execution_count": 87,
      "metadata": {
        "id": "TdPTWpAVphqO"
      },
      "outputs": [],
      "source": [
        "# Chart - 8 visualization code"
      ]
    },
    {
      "cell_type": "markdown",
      "metadata": {
        "id": "jj7wYXLtphqO"
      },
      "source": [
        "##### 1. Why did you pick the specific chart?"
      ]
    },
    {
      "cell_type": "markdown",
      "metadata": {
        "id": "Ob8u6rCTphqO"
      },
      "source": [
        "Answer Here."
      ]
    },
    {
      "cell_type": "markdown",
      "metadata": {
        "id": "eZrbJ2SmphqO"
      },
      "source": [
        "##### 2. What is/are the insight(s) found from the chart?"
      ]
    },
    {
      "cell_type": "markdown",
      "metadata": {
        "id": "mZtgC_hjphqO"
      },
      "source": [
        "Answer Here"
      ]
    },
    {
      "cell_type": "markdown",
      "metadata": {
        "id": "rFu4xreNphqO"
      },
      "source": [
        "##### 3. Will the gained insights help creating a positive business impact?\n",
        "Are there any insights that lead to negative growth? Justify with specific reason."
      ]
    },
    {
      "cell_type": "markdown",
      "metadata": {
        "id": "ey_0qi68phqO"
      },
      "source": [
        "Answer Here"
      ]
    },
    {
      "cell_type": "markdown",
      "metadata": {
        "id": "YJ55k-q6phqO"
      },
      "source": [
        "#### Chart - 9"
      ]
    },
    {
      "cell_type": "code",
      "execution_count": 88,
      "metadata": {
        "id": "B2aS4O1ophqO"
      },
      "outputs": [],
      "source": [
        "# Chart - 9 visualization code"
      ]
    },
    {
      "cell_type": "markdown",
      "metadata": {
        "id": "gCFgpxoyphqP"
      },
      "source": [
        "##### 1. Why did you pick the specific chart?"
      ]
    },
    {
      "cell_type": "markdown",
      "metadata": {
        "id": "TVxDimi2phqP"
      },
      "source": [
        "Answer Here."
      ]
    },
    {
      "cell_type": "markdown",
      "metadata": {
        "id": "OVtJsKN_phqQ"
      },
      "source": [
        "##### 2. What is/are the insight(s) found from the chart?"
      ]
    },
    {
      "cell_type": "markdown",
      "metadata": {
        "id": "ngGi97qjphqQ"
      },
      "source": [
        "Answer Here"
      ]
    },
    {
      "cell_type": "markdown",
      "metadata": {
        "id": "lssrdh5qphqQ"
      },
      "source": [
        "##### 3. Will the gained insights help creating a positive business impact?\n",
        "Are there any insights that lead to negative growth? Justify with specific reason."
      ]
    },
    {
      "cell_type": "markdown",
      "metadata": {
        "id": "tBpY5ekJphqQ"
      },
      "source": [
        "Answer Here"
      ]
    },
    {
      "cell_type": "markdown",
      "metadata": {
        "id": "U2RJ9gkRphqQ"
      },
      "source": [
        "#### Chart - 10"
      ]
    },
    {
      "cell_type": "code",
      "execution_count": 89,
      "metadata": {
        "id": "GM7a4YP4phqQ"
      },
      "outputs": [],
      "source": [
        "# Chart - 10 visualization code"
      ]
    },
    {
      "cell_type": "markdown",
      "metadata": {
        "id": "1M8mcRywphqQ"
      },
      "source": [
        "##### 1. Why did you pick the specific chart?"
      ]
    },
    {
      "cell_type": "markdown",
      "metadata": {
        "id": "8agQvks0phqQ"
      },
      "source": [
        "Answer Here."
      ]
    },
    {
      "cell_type": "markdown",
      "metadata": {
        "id": "tgIPom80phqQ"
      },
      "source": [
        "##### 2. What is/are the insight(s) found from the chart?"
      ]
    },
    {
      "cell_type": "markdown",
      "metadata": {
        "id": "Qp13pnNzphqQ"
      },
      "source": [
        "Answer Here"
      ]
    },
    {
      "cell_type": "markdown",
      "metadata": {
        "id": "JMzcOPDDphqR"
      },
      "source": [
        "##### 3. Will the gained insights help creating a positive business impact?\n",
        "Are there any insights that lead to negative growth? Justify with specific reason."
      ]
    },
    {
      "cell_type": "markdown",
      "metadata": {
        "id": "R4Ka1PC2phqR"
      },
      "source": [
        "Answer Here"
      ]
    },
    {
      "cell_type": "markdown",
      "metadata": {
        "id": "x-EpHcCOp1ci"
      },
      "source": [
        "#### Chart - 11"
      ]
    },
    {
      "cell_type": "code",
      "execution_count": 90,
      "metadata": {
        "id": "mAQTIvtqp1cj"
      },
      "outputs": [],
      "source": [
        "# Chart - 11 visualization code"
      ]
    },
    {
      "cell_type": "markdown",
      "metadata": {
        "id": "X_VqEhTip1ck"
      },
      "source": [
        "##### 1. Why did you pick the specific chart?"
      ]
    },
    {
      "cell_type": "markdown",
      "metadata": {
        "id": "-vsMzt_np1ck"
      },
      "source": [
        "Answer Here."
      ]
    },
    {
      "cell_type": "markdown",
      "metadata": {
        "id": "8zGJKyg5p1ck"
      },
      "source": [
        "##### 2. What is/are the insight(s) found from the chart?"
      ]
    },
    {
      "cell_type": "markdown",
      "metadata": {
        "id": "ZYdMsrqVp1ck"
      },
      "source": [
        "Answer Here"
      ]
    },
    {
      "cell_type": "markdown",
      "metadata": {
        "id": "PVzmfK_Ep1ck"
      },
      "source": [
        "##### 3. Will the gained insights help creating a positive business impact?\n",
        "Are there any insights that lead to negative growth? Justify with specific reason."
      ]
    },
    {
      "cell_type": "markdown",
      "metadata": {
        "id": "druuKYZpp1ck"
      },
      "source": [
        "Answer Here"
      ]
    },
    {
      "cell_type": "markdown",
      "metadata": {
        "id": "n3dbpmDWp1ck"
      },
      "source": [
        "#### Chart - 12"
      ]
    },
    {
      "cell_type": "code",
      "execution_count": 91,
      "metadata": {
        "id": "bwevp1tKp1ck"
      },
      "outputs": [],
      "source": [
        "# Chart - 12 visualization code"
      ]
    },
    {
      "cell_type": "markdown",
      "metadata": {
        "id": "ylSl6qgtp1ck"
      },
      "source": [
        "##### 1. Why did you pick the specific chart?"
      ]
    },
    {
      "cell_type": "markdown",
      "metadata": {
        "id": "m2xqNkiQp1ck"
      },
      "source": [
        "Answer Here."
      ]
    },
    {
      "cell_type": "markdown",
      "metadata": {
        "id": "ZWILFDl5p1ck"
      },
      "source": [
        "##### 2. What is/are the insight(s) found from the chart?"
      ]
    },
    {
      "cell_type": "markdown",
      "metadata": {
        "id": "x-lUsV2mp1ck"
      },
      "source": [
        "Answer Here"
      ]
    },
    {
      "cell_type": "markdown",
      "metadata": {
        "id": "M7G43BXep1ck"
      },
      "source": [
        "##### 3. Will the gained insights help creating a positive business impact?\n",
        "Are there any insights that lead to negative growth? Justify with specific reason."
      ]
    },
    {
      "cell_type": "markdown",
      "metadata": {
        "id": "5wwDJXsLp1cl"
      },
      "source": [
        "Answer Here"
      ]
    },
    {
      "cell_type": "markdown",
      "metadata": {
        "id": "Ag9LCva-p1cl"
      },
      "source": [
        "#### Chart - 13"
      ]
    },
    {
      "cell_type": "code",
      "execution_count": 92,
      "metadata": {
        "id": "EUfxeq9-p1cl"
      },
      "outputs": [],
      "source": [
        "# Chart - 13 visualization code"
      ]
    },
    {
      "cell_type": "markdown",
      "metadata": {
        "id": "E6MkPsBcp1cl"
      },
      "source": [
        "##### 1. Why did you pick the specific chart?"
      ]
    },
    {
      "cell_type": "markdown",
      "metadata": {
        "id": "V22bRsFWp1cl"
      },
      "source": [
        "Answer Here."
      ]
    },
    {
      "cell_type": "markdown",
      "metadata": {
        "id": "2cELzS2fp1cl"
      },
      "source": [
        "##### 2. What is/are the insight(s) found from the chart?"
      ]
    },
    {
      "cell_type": "markdown",
      "metadata": {
        "id": "ozQPc2_Ip1cl"
      },
      "source": [
        "Answer Here"
      ]
    },
    {
      "cell_type": "markdown",
      "metadata": {
        "id": "3MPXvC8up1cl"
      },
      "source": [
        "##### 3. Will the gained insights help creating a positive business impact?\n",
        "Are there any insights that lead to negative growth? Justify with specific reason."
      ]
    },
    {
      "cell_type": "markdown",
      "metadata": {
        "id": "GL8l1tdLp1cl"
      },
      "source": [
        "Answer Here"
      ]
    },
    {
      "cell_type": "markdown",
      "metadata": {
        "id": "NC_X3p0fY2L0"
      },
      "source": [
        "#### Chart - 14 - Correlation Heatmap"
      ]
    },
    {
      "cell_type": "code",
      "execution_count": 93,
      "metadata": {
        "id": "xyC9zolEZNRQ"
      },
      "outputs": [],
      "source": [
        "# Correlation Heatmap visualization code"
      ]
    },
    {
      "cell_type": "markdown",
      "metadata": {
        "id": "UV0SzAkaZNRQ"
      },
      "source": [
        "##### 1. Why did you pick the specific chart?"
      ]
    },
    {
      "cell_type": "markdown",
      "metadata": {
        "id": "DVPuT8LYZNRQ"
      },
      "source": [
        "Answer Here."
      ]
    },
    {
      "cell_type": "markdown",
      "metadata": {
        "id": "YPEH6qLeZNRQ"
      },
      "source": [
        "##### 2. What is/are the insight(s) found from the chart?"
      ]
    },
    {
      "cell_type": "markdown",
      "metadata": {
        "id": "bfSqtnDqZNRR"
      },
      "source": [
        "Answer Here"
      ]
    },
    {
      "cell_type": "markdown",
      "metadata": {
        "id": "q29F0dvdveiT"
      },
      "source": [
        "#### Chart - 15 - Pair Plot"
      ]
    },
    {
      "cell_type": "code",
      "execution_count": 94,
      "metadata": {
        "id": "o58-TEIhveiU"
      },
      "outputs": [],
      "source": [
        "# Pair Plot visualization code"
      ]
    },
    {
      "cell_type": "markdown",
      "metadata": {
        "id": "EXh0U9oCveiU"
      },
      "source": [
        "##### 1. Why did you pick the specific chart?"
      ]
    },
    {
      "cell_type": "markdown",
      "metadata": {
        "id": "eMmPjTByveiU"
      },
      "source": [
        "Answer Here."
      ]
    },
    {
      "cell_type": "markdown",
      "metadata": {
        "id": "22aHeOlLveiV"
      },
      "source": [
        "##### 2. What is/are the insight(s) found from the chart?"
      ]
    },
    {
      "cell_type": "markdown",
      "metadata": {
        "id": "uPQ8RGwHveiV"
      },
      "source": [
        "Answer Here"
      ]
    },
    {
      "cell_type": "markdown",
      "metadata": {
        "id": "JcMwzZxoAimU"
      },
      "source": [
        "## **5. Solution to Business Objective**"
      ]
    },
    {
      "cell_type": "markdown",
      "metadata": {
        "id": "8G2x9gOozGDZ"
      },
      "source": [
        "#### What do you suggest the client to achieve Business Objective ?\n",
        "Explain Briefly."
      ]
    },
    {
      "cell_type": "markdown",
      "metadata": {
        "id": "pASKb0qOza21"
      },
      "source": [
        "Answer Here."
      ]
    },
    {
      "cell_type": "markdown",
      "metadata": {
        "id": "gCX9965dhzqZ"
      },
      "source": [
        "# **Conclusion**"
      ]
    },
    {
      "cell_type": "markdown",
      "metadata": {
        "id": "Fjb1IsQkh3yE"
      },
      "source": [
        "Write the conclusion here."
      ]
    },
    {
      "cell_type": "markdown",
      "metadata": {
        "id": "gIfDvo9L0UH2"
      },
      "source": [
        "### ***Hurrah! You have successfully completed your EDA Capstone Project !!!***"
      ]
    },
    {
      "cell_type": "code",
      "execution_count": null,
      "metadata": {
        "id": "hgKKu6DWNopE"
      },
      "outputs": [],
      "source": []
    }
  ],
  "metadata": {
    "colab": {
      "collapsed_sections": [
        "Zu0c0a4QQavP",
        "FJNUwmbgGyua",
        "w6K7xa23Elo4",
        "yQaldy8SH6Dl",
        "PH-0ReGfmX4f",
        "mDgbUHAGgjLW",
        "HhfV-JJviCcP",
        "Y3lxredqlCYt",
        "3RnN4peoiCZX",
        "x71ZqKXriCWQ",
        "7hBIi_osiCS2",
        "JlHwYmJAmNHm",
        "35m5QtbWiB9F",
        "PoPl-ycgm1ru",
        "H0kj-8xxnORC",
        "nA9Y7ga8ng1Z",
        "PBTbrJXOngz2",
        "u3PMJOP6ngxN",
        "dauF4eBmngu3",
        "bKJF3rekwFvQ",
        "MSa1f5Uengrz"
      ],
      "provenance": []
    },
    "kernelspec": {
      "display_name": "Python 3",
      "name": "python3"
    },
    "language_info": {
      "codemirror_mode": {
        "name": "ipython",
        "version": 3
      },
      "file_extension": ".py",
      "mimetype": "text/x-python",
      "name": "python",
      "nbconvert_exporter": "python",
      "pygments_lexer": "ipython3",
      "version": "3.12.3"
    }
  },
  "nbformat": 4,
  "nbformat_minor": 0
}
